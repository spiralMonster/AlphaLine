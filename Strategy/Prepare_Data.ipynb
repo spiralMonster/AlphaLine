{
 "cells": [
  {
   "cell_type": "markdown",
   "id": "19cb3f15-a8ff-4ee3-8955-6d97297a1018",
   "metadata": {},
   "source": [
    "# Imports"
   ]
  },
  {
   "cell_type": "code",
   "execution_count": 1,
   "id": "9747a460-2c50-4239-98b0-d53a540f8d82",
   "metadata": {},
   "outputs": [],
   "source": [
    "import os\n",
    "import numpy as np\n",
    "import pandas as pd\n",
    "import pandas_datareader.data as web\n",
    "from pathlib import Path"
   ]
  },
  {
   "cell_type": "code",
   "execution_count": 66,
   "id": "6d10c5a6-bb79-407c-b162-d0315dea8d78",
   "metadata": {},
   "outputs": [],
   "source": [
    "import pandas_ta as ta"
   ]
  },
  {
   "cell_type": "markdown",
   "id": "68bcc99e-eae0-402a-a54a-e66a3fdbb854",
   "metadata": {},
   "source": [
    "# Parameters"
   ]
  },
  {
   "cell_type": "code",
   "execution_count": 2,
   "id": "581d0371-048f-4557-87a9-80cd51643f69",
   "metadata": {},
   "outputs": [],
   "source": [
    "total_obs=21*12*8-4"
   ]
  },
  {
   "cell_type": "code",
   "execution_count": 3,
   "id": "b1f916e4-2277-4c9a-8125-90761955c2d1",
   "metadata": {},
   "outputs": [],
   "source": [
    "backtest_start=pd.to_datetime('2010-01-01')\n",
    "backtest_end=pd.to_datetime('2016-01-01')"
   ]
  },
  {
   "cell_type": "code",
   "execution_count": 4,
   "id": "c736aa68-8070-4a83-961e-c12d03ee5d73",
   "metadata": {},
   "outputs": [],
   "source": [
    "fwd_test_start=pd.to_datetime('2016-01-01')\n",
    "fwd_test_end=pd.to_datetime('2018-01-01')"
   ]
  },
  {
   "cell_type": "markdown",
   "id": "b719cd12-39b3-4575-95a1-f3c383c8a64a",
   "metadata": {},
   "source": [
    "# List of SP500 Companies"
   ]
  },
  {
   "cell_type": "code",
   "execution_count": 5,
   "id": "4b1fc18e-4b11-4a28-9bc9-a56b8292b2ea",
   "metadata": {},
   "outputs": [],
   "source": [
    "url=\"https://en.wikipedia.org/wiki/List_of_S%26P_500_companies\""
   ]
  },
  {
   "cell_type": "code",
   "execution_count": 6,
   "id": "8aed129d-ceb0-46f6-8e07-0c7ea9b1bf69",
   "metadata": {},
   "outputs": [],
   "source": [
    "df=pd.read_html(url,header=0)[0]"
   ]
  },
  {
   "cell_type": "code",
   "execution_count": 7,
   "id": "605740da-4263-4dd8-90fa-84dfa1477108",
   "metadata": {},
   "outputs": [],
   "source": [
    "sp500_comp=list(df['Symbol'])"
   ]
  },
  {
   "cell_type": "code",
   "execution_count": 8,
   "id": "0bf0eafe-9f23-4948-9eac-92ec3f9cc989",
   "metadata": {},
   "outputs": [
    {
     "data": {
      "text/plain": [
       "['MMM', 'AOS', 'ABT', 'ABBV', 'ACN', 'ADBE', 'AMD', 'AES', 'AFL', 'A']"
      ]
     },
     "execution_count": 8,
     "metadata": {},
     "output_type": "execute_result"
    }
   ],
   "source": [
    "sp500_comp[:10]"
   ]
  },
  {
   "cell_type": "markdown",
   "id": "bc83ce1c-a0f7-41ff-b9e5-c872679725f3",
   "metadata": {},
   "source": [
    "# Data of Companies in SP500"
   ]
  },
  {
   "cell_type": "code",
   "execution_count": 9,
   "id": "bc1ff85c-98b9-4b53-9cfe-cdb589c4c5b6",
   "metadata": {},
   "outputs": [],
   "source": [
    "equity_csv_path=Path(\"../Data_Store/wiki_prices.csv\")"
   ]
  },
  {
   "cell_type": "code",
   "execution_count": 10,
   "id": "f17a509d-2bdd-4612-aa61-6dd1472588d3",
   "metadata": {},
   "outputs": [],
   "source": [
    "equity_data=pd.read_csv(\n",
    "    equity_csv_path,\n",
    "    parse_dates=['date'],\n",
    "    index_col=['date','ticker']\n",
    ").sort_index()"
   ]
  },
  {
   "cell_type": "code",
   "execution_count": 11,
   "id": "5bb61688-4801-45b1-bb35-1879532b9e59",
   "metadata": {},
   "outputs": [
    {
     "name": "stdout",
     "output_type": "stream",
     "text": [
      "<class 'pandas.core.frame.DataFrame'>\n",
      "MultiIndex: 15389314 entries, (Timestamp('1962-01-02 00:00:00'), 'ARNC') to (Timestamp('2018-03-27 00:00:00'), 'ZUMZ')\n",
      "Data columns (total 12 columns):\n",
      " #   Column       Dtype  \n",
      "---  ------       -----  \n",
      " 0   open         float64\n",
      " 1   high         float64\n",
      " 2   low          float64\n",
      " 3   close        float64\n",
      " 4   volume       float64\n",
      " 5   ex-dividend  float64\n",
      " 6   split_ratio  float64\n",
      " 7   adj_open     float64\n",
      " 8   adj_high     float64\n",
      " 9   adj_low      float64\n",
      " 10  adj_close    float64\n",
      " 11  adj_volume   float64\n",
      "dtypes: float64(12)\n",
      "memory usage: 1.4+ GB\n"
     ]
    }
   ],
   "source": [
    "equity_data.info()"
   ]
  },
  {
   "cell_type": "code",
   "execution_count": 12,
   "id": "708623f5-f749-4284-928a-43c8f438d550",
   "metadata": {},
   "outputs": [],
   "source": [
    "cols_to_include=['adj_open','adj_high','adj_low','adj_close','adj_volume']"
   ]
  },
  {
   "cell_type": "code",
   "execution_count": 13,
   "id": "b9ceaf56-960f-4bb3-b579-4c9af80e8d77",
   "metadata": {},
   "outputs": [],
   "source": [
    "equity_data=equity_data[cols_to_include]"
   ]
  },
  {
   "cell_type": "code",
   "execution_count": 14,
   "id": "b592bc7b-62fc-489b-94a8-e1698c4e4871",
   "metadata": {},
   "outputs": [],
   "source": [
    "available_ticker=equity_data.index.get_level_values(\"ticker\")"
   ]
  },
  {
   "cell_type": "code",
   "execution_count": 15,
   "id": "661bac4b-cac3-446c-a016-f5c51af45caf",
   "metadata": {},
   "outputs": [
    {
     "data": {
      "text/plain": [
       "Index(['ARNC', 'BA', 'CAT', 'DD', 'DIS', 'GE', 'HPQ', 'IBM', 'KO', 'ARNC',\n",
       "       ...\n",
       "       'ZEN', 'ZEUS', 'ZGNX', 'ZION', 'ZIOP', 'ZIXI', 'ZNGA', 'ZOES', 'ZTS',\n",
       "       'ZUMZ'],\n",
       "      dtype='object', name='ticker', length=15389314)"
      ]
     },
     "execution_count": 15,
     "metadata": {},
     "output_type": "execute_result"
    }
   ],
   "source": [
    "available_ticker"
   ]
  },
  {
   "cell_type": "code",
   "execution_count": 16,
   "id": "448f48ef-5b00-4ed1-b444-b3406a239010",
   "metadata": {},
   "outputs": [],
   "source": [
    "equity_data=equity_data[available_ticker.isin(sp500_comp)]"
   ]
  },
  {
   "cell_type": "code",
   "execution_count": 18,
   "id": "f0e60710-30c6-4d9c-98b4-35884fd0f087",
   "metadata": {},
   "outputs": [],
   "source": [
    "data=equity_data[(equity_data.index.get_level_values(\"date\")>=backtest_start)\n",
    "                  &(equity_data.index.get_level_values(\"date\")<=fwd_test_end)]"
   ]
  },
  {
   "cell_type": "code",
   "execution_count": 19,
   "id": "d53e94d6-5f4b-4d9e-8421-c128eae51572",
   "metadata": {},
   "outputs": [],
   "source": [
    "nobs_per_group=data.groupby(\"ticker\").size()\n",
    "keep_ticker=nobs_per_group[nobs_per_group==total_obs].index"
   ]
  },
  {
   "cell_type": "code",
   "execution_count": 20,
   "id": "e4c82670-556c-4d24-b29b-39b562ebd12f",
   "metadata": {},
   "outputs": [],
   "source": [
    "idx=pd.IndexSlice"
   ]
  },
  {
   "cell_type": "code",
   "execution_count": 22,
   "id": "d6e43eb5-3391-422c-bf04-8779cf9946ab",
   "metadata": {},
   "outputs": [],
   "source": [
    "data=data.loc[idx[:,keep_ticker],:]"
   ]
  },
  {
   "cell_type": "code",
   "execution_count": 23,
   "id": "dc617719-6fa8-4407-8c65-3abd95381762",
   "metadata": {},
   "outputs": [
    {
     "name": "stdout",
     "output_type": "stream",
     "text": [
      "<class 'pandas.core.frame.DataFrame'>\n",
      "MultiIndex: 756512 entries, (Timestamp('2010-01-04 00:00:00'), 'A') to (Timestamp('2017-12-29 00:00:00'), 'ZBRA')\n",
      "Data columns (total 5 columns):\n",
      " #   Column      Non-Null Count   Dtype  \n",
      "---  ------      --------------   -----  \n",
      " 0   adj_open    756512 non-null  float64\n",
      " 1   adj_high    756512 non-null  float64\n",
      " 2   adj_low     756512 non-null  float64\n",
      " 3   adj_close   756512 non-null  float64\n",
      " 4   adj_volume  756512 non-null  float64\n",
      "dtypes: float64(5)\n",
      "memory usage: 32.5+ MB\n"
     ]
    }
   ],
   "source": [
    "data.info()"
   ]
  },
  {
   "cell_type": "code",
   "execution_count": 24,
   "id": "3b84dab1-4eea-4e2f-b83e-d7afa959755b",
   "metadata": {},
   "outputs": [
    {
     "data": {
      "text/html": [
       "<div>\n",
       "<style scoped>\n",
       "    .dataframe tbody tr th:only-of-type {\n",
       "        vertical-align: middle;\n",
       "    }\n",
       "\n",
       "    .dataframe tbody tr th {\n",
       "        vertical-align: top;\n",
       "    }\n",
       "\n",
       "    .dataframe thead th {\n",
       "        text-align: right;\n",
       "    }\n",
       "</style>\n",
       "<table border=\"1\" class=\"dataframe\">\n",
       "  <thead>\n",
       "    <tr style=\"text-align: right;\">\n",
       "      <th></th>\n",
       "      <th></th>\n",
       "      <th>adj_open</th>\n",
       "      <th>adj_high</th>\n",
       "      <th>adj_low</th>\n",
       "      <th>adj_close</th>\n",
       "      <th>adj_volume</th>\n",
       "    </tr>\n",
       "    <tr>\n",
       "      <th>date</th>\n",
       "      <th>ticker</th>\n",
       "      <th></th>\n",
       "      <th></th>\n",
       "      <th></th>\n",
       "      <th></th>\n",
       "      <th></th>\n",
       "    </tr>\n",
       "  </thead>\n",
       "  <tbody>\n",
       "    <tr>\n",
       "      <th rowspan=\"5\" valign=\"top\">2010-01-04</th>\n",
       "      <th>A</th>\n",
       "      <td>21.415535</td>\n",
       "      <td>21.579273</td>\n",
       "      <td>21.239108</td>\n",
       "      <td>21.354133</td>\n",
       "      <td>2729300.0</td>\n",
       "    </tr>\n",
       "    <tr>\n",
       "      <th>ACGL</th>\n",
       "      <td>23.936667</td>\n",
       "      <td>24.066667</td>\n",
       "      <td>23.916667</td>\n",
       "      <td>23.983333</td>\n",
       "      <td>1604400.0</td>\n",
       "    </tr>\n",
       "    <tr>\n",
       "      <th>ACN</th>\n",
       "      <td>35.020500</td>\n",
       "      <td>35.594053</td>\n",
       "      <td>35.003630</td>\n",
       "      <td>35.484403</td>\n",
       "      <td>3650100.0</td>\n",
       "    </tr>\n",
       "    <tr>\n",
       "      <th>ADI</th>\n",
       "      <td>25.674932</td>\n",
       "      <td>25.997988</td>\n",
       "      <td>25.529556</td>\n",
       "      <td>25.578015</td>\n",
       "      <td>2102700.0</td>\n",
       "    </tr>\n",
       "    <tr>\n",
       "      <th>ADM</th>\n",
       "      <td>25.917474</td>\n",
       "      <td>26.213862</td>\n",
       "      <td>25.793979</td>\n",
       "      <td>25.909241</td>\n",
       "      <td>3472500.0</td>\n",
       "    </tr>\n",
       "  </tbody>\n",
       "</table>\n",
       "</div>"
      ],
      "text/plain": [
       "                    adj_open   adj_high    adj_low  adj_close  adj_volume\n",
       "date       ticker                                                        \n",
       "2010-01-04 A       21.415535  21.579273  21.239108  21.354133   2729300.0\n",
       "           ACGL    23.936667  24.066667  23.916667  23.983333   1604400.0\n",
       "           ACN     35.020500  35.594053  35.003630  35.484403   3650100.0\n",
       "           ADI     25.674932  25.997988  25.529556  25.578015   2102700.0\n",
       "           ADM     25.917474  26.213862  25.793979  25.909241   3472500.0"
      ]
     },
     "execution_count": 24,
     "metadata": {},
     "output_type": "execute_result"
    }
   ],
   "source": [
    "data.head()"
   ]
  },
  {
   "cell_type": "code",
   "execution_count": 25,
   "id": "132013ac-53d6-4796-8447-09f3ee565e68",
   "metadata": {},
   "outputs": [
    {
     "data": {
      "text/html": [
       "<div>\n",
       "<style scoped>\n",
       "    .dataframe tbody tr th:only-of-type {\n",
       "        vertical-align: middle;\n",
       "    }\n",
       "\n",
       "    .dataframe tbody tr th {\n",
       "        vertical-align: top;\n",
       "    }\n",
       "\n",
       "    .dataframe thead th {\n",
       "        text-align: right;\n",
       "    }\n",
       "</style>\n",
       "<table border=\"1\" class=\"dataframe\">\n",
       "  <thead>\n",
       "    <tr style=\"text-align: right;\">\n",
       "      <th></th>\n",
       "      <th></th>\n",
       "      <th>adj_open</th>\n",
       "      <th>adj_high</th>\n",
       "      <th>adj_low</th>\n",
       "      <th>adj_close</th>\n",
       "      <th>adj_volume</th>\n",
       "    </tr>\n",
       "    <tr>\n",
       "      <th>date</th>\n",
       "      <th>ticker</th>\n",
       "      <th></th>\n",
       "      <th></th>\n",
       "      <th></th>\n",
       "      <th></th>\n",
       "      <th></th>\n",
       "    </tr>\n",
       "  </thead>\n",
       "  <tbody>\n",
       "    <tr>\n",
       "      <th rowspan=\"5\" valign=\"top\">2017-12-29</th>\n",
       "      <th>XEL</th>\n",
       "      <td>48.11</td>\n",
       "      <td>48.29</td>\n",
       "      <td>48.07</td>\n",
       "      <td>48.11</td>\n",
       "      <td>2765244.0</td>\n",
       "    </tr>\n",
       "    <tr>\n",
       "      <th>XOM</th>\n",
       "      <td>84.00</td>\n",
       "      <td>84.20</td>\n",
       "      <td>83.64</td>\n",
       "      <td>83.64</td>\n",
       "      <td>8463522.0</td>\n",
       "    </tr>\n",
       "    <tr>\n",
       "      <th>YUM</th>\n",
       "      <td>82.64</td>\n",
       "      <td>82.71</td>\n",
       "      <td>81.59</td>\n",
       "      <td>81.61</td>\n",
       "      <td>1343728.0</td>\n",
       "    </tr>\n",
       "    <tr>\n",
       "      <th>ZBH</th>\n",
       "      <td>121.75</td>\n",
       "      <td>121.95</td>\n",
       "      <td>120.62</td>\n",
       "      <td>120.67</td>\n",
       "      <td>1021850.0</td>\n",
       "    </tr>\n",
       "    <tr>\n",
       "      <th>ZBRA</th>\n",
       "      <td>104.33</td>\n",
       "      <td>104.94</td>\n",
       "      <td>103.28</td>\n",
       "      <td>103.80</td>\n",
       "      <td>158534.0</td>\n",
       "    </tr>\n",
       "  </tbody>\n",
       "</table>\n",
       "</div>"
      ],
      "text/plain": [
       "                   adj_open  adj_high  adj_low  adj_close  adj_volume\n",
       "date       ticker                                                    \n",
       "2017-12-29 XEL        48.11     48.29    48.07      48.11   2765244.0\n",
       "           XOM        84.00     84.20    83.64      83.64   8463522.0\n",
       "           YUM        82.64     82.71    81.59      81.61   1343728.0\n",
       "           ZBH       121.75    121.95   120.62     120.67   1021850.0\n",
       "           ZBRA      104.33    104.94   103.28     103.80    158534.0"
      ]
     },
     "execution_count": 25,
     "metadata": {},
     "output_type": "execute_result"
    }
   ],
   "source": [
    "data.tail()"
   ]
  },
  {
   "cell_type": "code",
   "execution_count": 26,
   "id": "a99defc4-b821-4606-9847-155bd760927e",
   "metadata": {},
   "outputs": [
    {
     "data": {
      "text/html": [
       "<div>\n",
       "<style scoped>\n",
       "    .dataframe tbody tr th:only-of-type {\n",
       "        vertical-align: middle;\n",
       "    }\n",
       "\n",
       "    .dataframe tbody tr th {\n",
       "        vertical-align: top;\n",
       "    }\n",
       "\n",
       "    .dataframe thead th {\n",
       "        text-align: right;\n",
       "    }\n",
       "</style>\n",
       "<table border=\"1\" class=\"dataframe\">\n",
       "  <thead>\n",
       "    <tr style=\"text-align: right;\">\n",
       "      <th></th>\n",
       "      <th></th>\n",
       "      <th>adj_open</th>\n",
       "      <th>adj_high</th>\n",
       "      <th>adj_low</th>\n",
       "      <th>adj_close</th>\n",
       "      <th>adj_volume</th>\n",
       "    </tr>\n",
       "    <tr>\n",
       "      <th>date</th>\n",
       "      <th>ticker</th>\n",
       "      <th></th>\n",
       "      <th></th>\n",
       "      <th></th>\n",
       "      <th></th>\n",
       "      <th></th>\n",
       "    </tr>\n",
       "  </thead>\n",
       "  <tbody>\n",
       "    <tr>\n",
       "      <th rowspan=\"5\" valign=\"top\">2010-01-04</th>\n",
       "      <th>A</th>\n",
       "      <td>21.415535</td>\n",
       "      <td>21.579273</td>\n",
       "      <td>21.239108</td>\n",
       "      <td>21.354133</td>\n",
       "      <td>2729300.0</td>\n",
       "    </tr>\n",
       "    <tr>\n",
       "      <th>ACGL</th>\n",
       "      <td>23.936667</td>\n",
       "      <td>24.066667</td>\n",
       "      <td>23.916667</td>\n",
       "      <td>23.983333</td>\n",
       "      <td>1604400.0</td>\n",
       "    </tr>\n",
       "    <tr>\n",
       "      <th>ACN</th>\n",
       "      <td>35.020500</td>\n",
       "      <td>35.594053</td>\n",
       "      <td>35.003630</td>\n",
       "      <td>35.484403</td>\n",
       "      <td>3650100.0</td>\n",
       "    </tr>\n",
       "    <tr>\n",
       "      <th>ADI</th>\n",
       "      <td>25.674932</td>\n",
       "      <td>25.997988</td>\n",
       "      <td>25.529556</td>\n",
       "      <td>25.578015</td>\n",
       "      <td>2102700.0</td>\n",
       "    </tr>\n",
       "    <tr>\n",
       "      <th>ADM</th>\n",
       "      <td>25.917474</td>\n",
       "      <td>26.213862</td>\n",
       "      <td>25.793979</td>\n",
       "      <td>25.909241</td>\n",
       "      <td>3472500.0</td>\n",
       "    </tr>\n",
       "    <tr>\n",
       "      <th>...</th>\n",
       "      <th>...</th>\n",
       "      <td>...</td>\n",
       "      <td>...</td>\n",
       "      <td>...</td>\n",
       "      <td>...</td>\n",
       "      <td>...</td>\n",
       "    </tr>\n",
       "    <tr>\n",
       "      <th rowspan=\"5\" valign=\"top\">2017-12-29</th>\n",
       "      <th>XEL</th>\n",
       "      <td>48.110000</td>\n",
       "      <td>48.290000</td>\n",
       "      <td>48.070000</td>\n",
       "      <td>48.110000</td>\n",
       "      <td>2765244.0</td>\n",
       "    </tr>\n",
       "    <tr>\n",
       "      <th>XOM</th>\n",
       "      <td>84.000000</td>\n",
       "      <td>84.200000</td>\n",
       "      <td>83.640000</td>\n",
       "      <td>83.640000</td>\n",
       "      <td>8463522.0</td>\n",
       "    </tr>\n",
       "    <tr>\n",
       "      <th>YUM</th>\n",
       "      <td>82.640000</td>\n",
       "      <td>82.710000</td>\n",
       "      <td>81.590000</td>\n",
       "      <td>81.610000</td>\n",
       "      <td>1343728.0</td>\n",
       "    </tr>\n",
       "    <tr>\n",
       "      <th>ZBH</th>\n",
       "      <td>121.750000</td>\n",
       "      <td>121.950000</td>\n",
       "      <td>120.620000</td>\n",
       "      <td>120.670000</td>\n",
       "      <td>1021850.0</td>\n",
       "    </tr>\n",
       "    <tr>\n",
       "      <th>ZBRA</th>\n",
       "      <td>104.330000</td>\n",
       "      <td>104.940000</td>\n",
       "      <td>103.280000</td>\n",
       "      <td>103.800000</td>\n",
       "      <td>158534.0</td>\n",
       "    </tr>\n",
       "  </tbody>\n",
       "</table>\n",
       "<p>756512 rows × 5 columns</p>\n",
       "</div>"
      ],
      "text/plain": [
       "                     adj_open    adj_high     adj_low   adj_close  adj_volume\n",
       "date       ticker                                                            \n",
       "2010-01-04 A        21.415535   21.579273   21.239108   21.354133   2729300.0\n",
       "           ACGL     23.936667   24.066667   23.916667   23.983333   1604400.0\n",
       "           ACN      35.020500   35.594053   35.003630   35.484403   3650100.0\n",
       "           ADI      25.674932   25.997988   25.529556   25.578015   2102700.0\n",
       "           ADM      25.917474   26.213862   25.793979   25.909241   3472500.0\n",
       "...                       ...         ...         ...         ...         ...\n",
       "2017-12-29 XEL      48.110000   48.290000   48.070000   48.110000   2765244.0\n",
       "           XOM      84.000000   84.200000   83.640000   83.640000   8463522.0\n",
       "           YUM      82.640000   82.710000   81.590000   81.610000   1343728.0\n",
       "           ZBH     121.750000  121.950000  120.620000  120.670000   1021850.0\n",
       "           ZBRA    104.330000  104.940000  103.280000  103.800000    158534.0\n",
       "\n",
       "[756512 rows x 5 columns]"
      ]
     },
     "execution_count": 26,
     "metadata": {},
     "output_type": "execute_result"
    }
   ],
   "source": [
    "data"
   ]
  },
  {
   "cell_type": "markdown",
   "id": "e6fb4f0c-9011-48c1-9e6a-b1ca32c0c5a0",
   "metadata": {},
   "source": [
    "# Fama-French Factor Data"
   ]
  },
  {
   "cell_type": "code",
   "execution_count": 27,
   "id": "673bec7f-5d2a-4aa5-9b88-12ab2dbccafe",
   "metadata": {},
   "outputs": [],
   "source": [
    "start=data.index.get_level_values(\"date\")[0]"
   ]
  },
  {
   "cell_type": "code",
   "execution_count": 28,
   "id": "70d78121-f5e4-433c-a4b3-7e7bfa915054",
   "metadata": {},
   "outputs": [],
   "source": [
    "end=data.index.get_level_values(\"date\")[-1]"
   ]
  },
  {
   "cell_type": "code",
   "execution_count": 29,
   "id": "6b262839-b7a1-476b-b42e-a7854244ca83",
   "metadata": {},
   "outputs": [],
   "source": [
    "url='F-F_Research_Data_5_Factors_2x3_daily'"
   ]
  },
  {
   "cell_type": "code",
   "execution_count": 30,
   "id": "a6f99745-ac65-4f55-9aee-45582ee71845",
   "metadata": {},
   "outputs": [
    {
     "name": "stderr",
     "output_type": "stream",
     "text": [
      "/tmp/ipykernel_13083/748594556.py:1: FutureWarning: The argument 'date_parser' is deprecated and will be removed in a future version. Please use 'date_format' instead, or read your data in as 'object' dtype and then call 'to_datetime'.\n",
      "  factor_data=web.DataReader(url,'famafrench',start=start,end=end)[0]\n"
     ]
    }
   ],
   "source": [
    "factor_data=web.DataReader(url,'famafrench',start=start,end=end)[0]"
   ]
  },
  {
   "cell_type": "code",
   "execution_count": 31,
   "id": "00abdb00-1363-413e-83a2-855492fa5e49",
   "metadata": {},
   "outputs": [
    {
     "name": "stdout",
     "output_type": "stream",
     "text": [
      "<class 'pandas.core.frame.DataFrame'>\n",
      "DatetimeIndex: 2013 entries, 2010-01-04 to 2017-12-29\n",
      "Data columns (total 6 columns):\n",
      " #   Column  Non-Null Count  Dtype  \n",
      "---  ------  --------------  -----  \n",
      " 0   Mkt-RF  2013 non-null   float64\n",
      " 1   SMB     2013 non-null   float64\n",
      " 2   HML     2013 non-null   float64\n",
      " 3   RMW     2013 non-null   float64\n",
      " 4   CMA     2013 non-null   float64\n",
      " 5   RF      2013 non-null   float64\n",
      "dtypes: float64(6)\n",
      "memory usage: 110.1 KB\n"
     ]
    }
   ],
   "source": [
    "factor_data.info()"
   ]
  },
  {
   "cell_type": "code",
   "execution_count": 32,
   "id": "35b09c56-69c0-49ea-a7f2-d22c481c319c",
   "metadata": {},
   "outputs": [
    {
     "data": {
      "text/html": [
       "<div>\n",
       "<style scoped>\n",
       "    .dataframe tbody tr th:only-of-type {\n",
       "        vertical-align: middle;\n",
       "    }\n",
       "\n",
       "    .dataframe tbody tr th {\n",
       "        vertical-align: top;\n",
       "    }\n",
       "\n",
       "    .dataframe thead th {\n",
       "        text-align: right;\n",
       "    }\n",
       "</style>\n",
       "<table border=\"1\" class=\"dataframe\">\n",
       "  <thead>\n",
       "    <tr style=\"text-align: right;\">\n",
       "      <th></th>\n",
       "      <th>Mkt-RF</th>\n",
       "      <th>SMB</th>\n",
       "      <th>HML</th>\n",
       "      <th>RMW</th>\n",
       "      <th>CMA</th>\n",
       "      <th>RF</th>\n",
       "    </tr>\n",
       "    <tr>\n",
       "      <th>Date</th>\n",
       "      <th></th>\n",
       "      <th></th>\n",
       "      <th></th>\n",
       "      <th></th>\n",
       "      <th></th>\n",
       "      <th></th>\n",
       "    </tr>\n",
       "  </thead>\n",
       "  <tbody>\n",
       "    <tr>\n",
       "      <th>2010-01-04</th>\n",
       "      <td>1.69</td>\n",
       "      <td>0.79</td>\n",
       "      <td>1.14</td>\n",
       "      <td>-0.17</td>\n",
       "      <td>0.21</td>\n",
       "      <td>0.0</td>\n",
       "    </tr>\n",
       "    <tr>\n",
       "      <th>2010-01-05</th>\n",
       "      <td>0.31</td>\n",
       "      <td>-0.42</td>\n",
       "      <td>1.22</td>\n",
       "      <td>-0.18</td>\n",
       "      <td>0.19</td>\n",
       "      <td>0.0</td>\n",
       "    </tr>\n",
       "    <tr>\n",
       "      <th>2010-01-06</th>\n",
       "      <td>0.13</td>\n",
       "      <td>-0.14</td>\n",
       "      <td>0.55</td>\n",
       "      <td>-0.05</td>\n",
       "      <td>0.20</td>\n",
       "      <td>0.0</td>\n",
       "    </tr>\n",
       "    <tr>\n",
       "      <th>2010-01-07</th>\n",
       "      <td>0.40</td>\n",
       "      <td>0.25</td>\n",
       "      <td>0.96</td>\n",
       "      <td>-0.66</td>\n",
       "      <td>0.22</td>\n",
       "      <td>0.0</td>\n",
       "    </tr>\n",
       "    <tr>\n",
       "      <th>2010-01-08</th>\n",
       "      <td>0.33</td>\n",
       "      <td>0.31</td>\n",
       "      <td>0.02</td>\n",
       "      <td>0.23</td>\n",
       "      <td>-0.40</td>\n",
       "      <td>0.0</td>\n",
       "    </tr>\n",
       "  </tbody>\n",
       "</table>\n",
       "</div>"
      ],
      "text/plain": [
       "            Mkt-RF   SMB   HML   RMW   CMA   RF\n",
       "Date                                           \n",
       "2010-01-04    1.69  0.79  1.14 -0.17  0.21  0.0\n",
       "2010-01-05    0.31 -0.42  1.22 -0.18  0.19  0.0\n",
       "2010-01-06    0.13 -0.14  0.55 -0.05  0.20  0.0\n",
       "2010-01-07    0.40  0.25  0.96 -0.66  0.22  0.0\n",
       "2010-01-08    0.33  0.31  0.02  0.23 -0.40  0.0"
      ]
     },
     "execution_count": 32,
     "metadata": {},
     "output_type": "execute_result"
    }
   ],
   "source": [
    "factor_data.head()"
   ]
  },
  {
   "cell_type": "code",
   "execution_count": 33,
   "id": "a8800279-da39-49bf-94f2-cd5ffd30db6f",
   "metadata": {},
   "outputs": [
    {
     "data": {
      "text/html": [
       "<div>\n",
       "<style scoped>\n",
       "    .dataframe tbody tr th:only-of-type {\n",
       "        vertical-align: middle;\n",
       "    }\n",
       "\n",
       "    .dataframe tbody tr th {\n",
       "        vertical-align: top;\n",
       "    }\n",
       "\n",
       "    .dataframe thead th {\n",
       "        text-align: right;\n",
       "    }\n",
       "</style>\n",
       "<table border=\"1\" class=\"dataframe\">\n",
       "  <thead>\n",
       "    <tr style=\"text-align: right;\">\n",
       "      <th></th>\n",
       "      <th>Mkt-RF</th>\n",
       "      <th>SMB</th>\n",
       "      <th>HML</th>\n",
       "      <th>RMW</th>\n",
       "      <th>CMA</th>\n",
       "      <th>RF</th>\n",
       "    </tr>\n",
       "    <tr>\n",
       "      <th>Date</th>\n",
       "      <th></th>\n",
       "      <th></th>\n",
       "      <th></th>\n",
       "      <th></th>\n",
       "      <th></th>\n",
       "      <th></th>\n",
       "    </tr>\n",
       "  </thead>\n",
       "  <tbody>\n",
       "    <tr>\n",
       "      <th>2017-12-22</th>\n",
       "      <td>-0.07</td>\n",
       "      <td>-0.19</td>\n",
       "      <td>-0.21</td>\n",
       "      <td>-0.10</td>\n",
       "      <td>0.22</td>\n",
       "      <td>0.004</td>\n",
       "    </tr>\n",
       "    <tr>\n",
       "      <th>2017-12-26</th>\n",
       "      <td>-0.07</td>\n",
       "      <td>0.31</td>\n",
       "      <td>-0.07</td>\n",
       "      <td>-0.13</td>\n",
       "      <td>0.61</td>\n",
       "      <td>0.004</td>\n",
       "    </tr>\n",
       "    <tr>\n",
       "      <th>2017-12-27</th>\n",
       "      <td>0.05</td>\n",
       "      <td>-0.16</td>\n",
       "      <td>-0.20</td>\n",
       "      <td>0.07</td>\n",
       "      <td>-0.12</td>\n",
       "      <td>0.004</td>\n",
       "    </tr>\n",
       "    <tr>\n",
       "      <th>2017-12-28</th>\n",
       "      <td>0.22</td>\n",
       "      <td>0.10</td>\n",
       "      <td>0.05</td>\n",
       "      <td>-0.13</td>\n",
       "      <td>-0.19</td>\n",
       "      <td>0.004</td>\n",
       "    </tr>\n",
       "    <tr>\n",
       "      <th>2017-12-29</th>\n",
       "      <td>-0.57</td>\n",
       "      <td>-0.31</td>\n",
       "      <td>0.01</td>\n",
       "      <td>0.16</td>\n",
       "      <td>0.13</td>\n",
       "      <td>0.004</td>\n",
       "    </tr>\n",
       "  </tbody>\n",
       "</table>\n",
       "</div>"
      ],
      "text/plain": [
       "            Mkt-RF   SMB   HML   RMW   CMA     RF\n",
       "Date                                             \n",
       "2017-12-22   -0.07 -0.19 -0.21 -0.10  0.22  0.004\n",
       "2017-12-26   -0.07  0.31 -0.07 -0.13  0.61  0.004\n",
       "2017-12-27    0.05 -0.16 -0.20  0.07 -0.12  0.004\n",
       "2017-12-28    0.22  0.10  0.05 -0.13 -0.19  0.004\n",
       "2017-12-29   -0.57 -0.31  0.01  0.16  0.13  0.004"
      ]
     },
     "execution_count": 33,
     "metadata": {},
     "output_type": "execute_result"
    }
   ],
   "source": [
    "factor_data.tail()"
   ]
  },
  {
   "cell_type": "markdown",
   "id": "7cbe399c-1f64-4c5e-b246-8496eaf9de5c",
   "metadata": {},
   "source": [
    "# SP500 Data"
   ]
  },
  {
   "cell_type": "code",
   "execution_count": 34,
   "id": "24f723d4-06dc-400f-9c63-51689a3e8a9a",
   "metadata": {},
   "outputs": [],
   "source": [
    "data_path=Path(\"../Data_Store/sp500_data.csv\")"
   ]
  },
  {
   "cell_type": "code",
   "execution_count": 35,
   "id": "71219c16-f780-4f56-9653-f46b0358034c",
   "metadata": {},
   "outputs": [],
   "source": [
    "data_sp500=pd.read_csv(\n",
    "    data_path,\n",
    "    parse_dates=['Date'],\n",
    "    index_col=['Date']\n",
    "    \n",
    ").sort_index()"
   ]
  },
  {
   "cell_type": "code",
   "execution_count": 36,
   "id": "234d67b4-24f3-4a5c-8e49-726f78e55f7a",
   "metadata": {},
   "outputs": [],
   "source": [
    "data_sp500=data_sp500[\"Close\"].rename({\"Close\":\"sp500_close\"}).to_frame()"
   ]
  },
  {
   "cell_type": "code",
   "execution_count": 37,
   "id": "c71dfe24-b9c2-4878-a3e8-166288974d6a",
   "metadata": {},
   "outputs": [],
   "source": [
    "data_sp500=data_sp500[(data_sp500.index>=backtest_start)&(data_sp500.index<=fwd_test_end)]"
   ]
  },
  {
   "cell_type": "code",
   "execution_count": 38,
   "id": "04e6a789-fcd7-4edc-bf2a-18b427147f04",
   "metadata": {},
   "outputs": [
    {
     "name": "stdout",
     "output_type": "stream",
     "text": [
      "<class 'pandas.core.frame.DataFrame'>\n",
      "DatetimeIndex: 2013 entries, 2010-01-04 to 2017-12-29\n",
      "Data columns (total 1 columns):\n",
      " #   Column  Non-Null Count  Dtype  \n",
      "---  ------  --------------  -----  \n",
      " 0   Close   2013 non-null   float64\n",
      "dtypes: float64(1)\n",
      "memory usage: 31.5 KB\n"
     ]
    }
   ],
   "source": [
    "data_sp500.info()"
   ]
  },
  {
   "cell_type": "code",
   "execution_count": 39,
   "id": "72bdb4c4-b874-44be-b03e-516846471b51",
   "metadata": {},
   "outputs": [
    {
     "data": {
      "text/html": [
       "<div>\n",
       "<style scoped>\n",
       "    .dataframe tbody tr th:only-of-type {\n",
       "        vertical-align: middle;\n",
       "    }\n",
       "\n",
       "    .dataframe tbody tr th {\n",
       "        vertical-align: top;\n",
       "    }\n",
       "\n",
       "    .dataframe thead th {\n",
       "        text-align: right;\n",
       "    }\n",
       "</style>\n",
       "<table border=\"1\" class=\"dataframe\">\n",
       "  <thead>\n",
       "    <tr style=\"text-align: right;\">\n",
       "      <th></th>\n",
       "      <th>Close</th>\n",
       "    </tr>\n",
       "    <tr>\n",
       "      <th>Date</th>\n",
       "      <th></th>\n",
       "    </tr>\n",
       "  </thead>\n",
       "  <tbody>\n",
       "    <tr>\n",
       "      <th>2010-01-04</th>\n",
       "      <td>1132.99</td>\n",
       "    </tr>\n",
       "    <tr>\n",
       "      <th>2010-01-05</th>\n",
       "      <td>1136.52</td>\n",
       "    </tr>\n",
       "    <tr>\n",
       "      <th>2010-01-06</th>\n",
       "      <td>1137.14</td>\n",
       "    </tr>\n",
       "    <tr>\n",
       "      <th>2010-01-07</th>\n",
       "      <td>1141.69</td>\n",
       "    </tr>\n",
       "    <tr>\n",
       "      <th>2010-01-08</th>\n",
       "      <td>1144.98</td>\n",
       "    </tr>\n",
       "  </tbody>\n",
       "</table>\n",
       "</div>"
      ],
      "text/plain": [
       "              Close\n",
       "Date               \n",
       "2010-01-04  1132.99\n",
       "2010-01-05  1136.52\n",
       "2010-01-06  1137.14\n",
       "2010-01-07  1141.69\n",
       "2010-01-08  1144.98"
      ]
     },
     "execution_count": 39,
     "metadata": {},
     "output_type": "execute_result"
    }
   ],
   "source": [
    "data_sp500.head()"
   ]
  },
  {
   "cell_type": "code",
   "execution_count": 40,
   "id": "6b796f31-0700-466c-a72e-d283e3bf8889",
   "metadata": {},
   "outputs": [
    {
     "data": {
      "text/html": [
       "<div>\n",
       "<style scoped>\n",
       "    .dataframe tbody tr th:only-of-type {\n",
       "        vertical-align: middle;\n",
       "    }\n",
       "\n",
       "    .dataframe tbody tr th {\n",
       "        vertical-align: top;\n",
       "    }\n",
       "\n",
       "    .dataframe thead th {\n",
       "        text-align: right;\n",
       "    }\n",
       "</style>\n",
       "<table border=\"1\" class=\"dataframe\">\n",
       "  <thead>\n",
       "    <tr style=\"text-align: right;\">\n",
       "      <th></th>\n",
       "      <th>Close</th>\n",
       "    </tr>\n",
       "    <tr>\n",
       "      <th>Date</th>\n",
       "      <th></th>\n",
       "    </tr>\n",
       "  </thead>\n",
       "  <tbody>\n",
       "    <tr>\n",
       "      <th>2017-12-22</th>\n",
       "      <td>2683.34</td>\n",
       "    </tr>\n",
       "    <tr>\n",
       "      <th>2017-12-26</th>\n",
       "      <td>2680.50</td>\n",
       "    </tr>\n",
       "    <tr>\n",
       "      <th>2017-12-27</th>\n",
       "      <td>2682.62</td>\n",
       "    </tr>\n",
       "    <tr>\n",
       "      <th>2017-12-28</th>\n",
       "      <td>2687.54</td>\n",
       "    </tr>\n",
       "    <tr>\n",
       "      <th>2017-12-29</th>\n",
       "      <td>2673.61</td>\n",
       "    </tr>\n",
       "  </tbody>\n",
       "</table>\n",
       "</div>"
      ],
      "text/plain": [
       "              Close\n",
       "Date               \n",
       "2017-12-22  2683.34\n",
       "2017-12-26  2680.50\n",
       "2017-12-27  2682.62\n",
       "2017-12-28  2687.54\n",
       "2017-12-29  2673.61"
      ]
     },
     "execution_count": 40,
     "metadata": {},
     "output_type": "execute_result"
    }
   ],
   "source": [
    "data_sp500.tail()"
   ]
  },
  {
   "cell_type": "markdown",
   "id": "131060ea-e74b-4a68-a8e2-c27454f08843",
   "metadata": {},
   "source": [
    "# Feature Engineering"
   ]
  },
  {
   "cell_type": "code",
   "execution_count": 41,
   "id": "593efd3b-ec09-4cb3-aa95-7aa9ae95a156",
   "metadata": {},
   "outputs": [
    {
     "name": "stdout",
     "output_type": "stream",
     "text": [
      "<class 'pandas.core.frame.DataFrame'>\n",
      "MultiIndex: 756512 entries, (Timestamp('2010-01-04 00:00:00'), 'A') to (Timestamp('2017-12-29 00:00:00'), 'ZBRA')\n",
      "Data columns (total 5 columns):\n",
      " #   Column      Non-Null Count   Dtype  \n",
      "---  ------      --------------   -----  \n",
      " 0   adj_open    756512 non-null  float64\n",
      " 1   adj_high    756512 non-null  float64\n",
      " 2   adj_low     756512 non-null  float64\n",
      " 3   adj_close   756512 non-null  float64\n",
      " 4   adj_volume  756512 non-null  float64\n",
      "dtypes: float64(5)\n",
      "memory usage: 32.5+ MB\n"
     ]
    }
   ],
   "source": [
    "data.info()"
   ]
  },
  {
   "cell_type": "code",
   "execution_count": 42,
   "id": "29f5a1c6-8b5a-4a38-8e7e-09deff228acd",
   "metadata": {},
   "outputs": [],
   "source": [
    "data=data.rename(columns=lambda x: x.replace(\"adj_\",\"\"))"
   ]
  },
  {
   "cell_type": "markdown",
   "id": "046b8116-c5ba-4c7c-b5ca-de3546fa367f",
   "metadata": {},
   "source": [
    "## Dollar Volume"
   ]
  },
  {
   "cell_type": "code",
   "execution_count": 43,
   "id": "4ca2c3a9-a0f9-462d-9bed-6282e30cb0ce",
   "metadata": {},
   "outputs": [],
   "source": [
    "data[\"dollar_volume\"]=data[[\"close\",\"volume\"]].prod(axis=1)"
   ]
  },
  {
   "cell_type": "code",
   "execution_count": 44,
   "id": "13f50d16-db9d-449b-9373-d918001cbb04",
   "metadata": {},
   "outputs": [],
   "source": [
    "for t in [7,15,21]:\n",
    "    data[f\"dollar_volume_{t}d\"]=(data.dollar_volume.\n",
    "                                 groupby(\"ticker\").\n",
    "                                 rolling(window=t).\n",
    "                                 mean()).values"
   ]
  },
  {
   "cell_type": "code",
   "execution_count": 55,
   "id": "62a94b69-1001-4d39-87c9-41a76d54c315",
   "metadata": {},
   "outputs": [],
   "source": [
    "data[\"dollar_volume_rank\"]=(data\n",
    "                            .groupby(\"date\")\n",
    "                            .dollar_volume_21d\n",
    "                            .rank(ascending=False))"
   ]
  },
  {
   "cell_type": "markdown",
   "id": "2cf3ae68-abed-4580-98a1-a5fceda311e2",
   "metadata": {},
   "source": [
    "## Returns"
   ]
  },
  {
   "cell_type": "code",
   "execution_count": 50,
   "id": "3c76d924-bfbb-458e-b740-8f497e753b0f",
   "metadata": {},
   "outputs": [],
   "source": [
    "q=0.0001"
   ]
  },
  {
   "cell_type": "code",
   "execution_count": 51,
   "id": "af73806f-d434-4a18-91d4-c0104a9c9bfb",
   "metadata": {},
   "outputs": [],
   "source": [
    "for t in [1,7,15,21]:\n",
    "    data[f\"returns_{t}d\"]=(data\n",
    "                           .groupby(\"ticker\")\n",
    "                           .close\n",
    "                           .pct_change()\n",
    "                           .pipe(lambda x: x.clip(lower=x.quantile(q),upper=x.quantile(1-q)))\n",
    "                           .add(1)\n",
    "                           .pow(1/t)\n",
    "                           .sub(1))"
   ]
  },
  {
   "cell_type": "markdown",
   "id": "9ccf3389-7787-405a-8bbd-20a3dd279dd7",
   "metadata": {},
   "source": [
    "## Lagged Returns"
   ]
  },
  {
   "cell_type": "code",
   "execution_count": 54,
   "id": "b2b0a31a-8a0b-4e5a-b058-d4dcd3451ad9",
   "metadata": {},
   "outputs": [],
   "source": [
    "for t in [1,7,15,21]:\n",
    "    for lag in [1,3,5,7]:\n",
    "        data[f\"returns_{t}d_lag{lag}\"]=(data\n",
    "                                        .groupby(\"ticker\")[f\"returns_{t}d\"]\n",
    "                                        .shift(lag))"
   ]
  },
  {
   "cell_type": "markdown",
   "id": "1630bd11-4ee3-43a5-84fc-00bbf18b15de",
   "metadata": {},
   "source": [
    "## Momentum"
   ]
  },
  {
   "cell_type": "code",
   "execution_count": 57,
   "id": "3cfb323f-78f6-41c2-8b04-eb347e31e3f1",
   "metadata": {},
   "outputs": [],
   "source": [
    "for t in [7,15,21]:\n",
    "    data[f\"momentum_{t}d\"]=(data.\n",
    "                            groupby(\"ticker\")\n",
    "                            .returns_1d\n",
    "                            .rolling(window=t)\n",
    "                            .mean()\n",
    "                            .shift(1)).values"
   ]
  },
  {
   "cell_type": "markdown",
   "id": "b32d5218-d556-458d-9f56-e16dc8d34c34",
   "metadata": {},
   "source": [
    "## Lagged Momentum"
   ]
  },
  {
   "cell_type": "code",
   "execution_count": 59,
   "id": "b0c16dd0-5efb-4c92-9163-52eff566ab18",
   "metadata": {},
   "outputs": [],
   "source": [
    "for t in [7,15,21]:\n",
    "    for lag in [1,3,5,7]:\n",
    "        data[f\"momentum_{t}d_lag{lag}\"]=(data.\n",
    "                                         groupby(\"ticker\")[f\"momentum_{t}d\"].\n",
    "                                         shift(lag))"
   ]
  },
  {
   "cell_type": "markdown",
   "id": "970a6f08-f462-4c13-9ef0-c46559566f01",
   "metadata": {},
   "source": [
    "## Volatility"
   ]
  },
  {
   "cell_type": "code",
   "execution_count": 60,
   "id": "0a381dd5-23ed-45c1-be74-f6bf1d02dd16",
   "metadata": {},
   "outputs": [],
   "source": [
    "for t in [7,15,21]:\n",
    "    data[f\"volatility_{t}d\"]=(data\n",
    "                              .groupby(\"ticker\")\n",
    "                              .returns_1d\n",
    "                              .rolling(window=t)\n",
    "                              .std()\n",
    "                              .shift(1)).values"
   ]
  },
  {
   "cell_type": "markdown",
   "id": "58a5853e-1494-4f8a-a976-851fd62cd7c4",
   "metadata": {},
   "source": [
    "## Lagged Volatility"
   ]
  },
  {
   "cell_type": "code",
   "execution_count": 61,
   "id": "22748493-6d65-4080-87fa-37dc27819408",
   "metadata": {},
   "outputs": [],
   "source": [
    "for t in [7,15,21]:\n",
    "    for lag in [1,3,5,7]:\n",
    "        data[f\"volatility_{t}d_lag{lag}\"]=(data\n",
    "                                           .groupby(\"ticker\")[f\"volatility_{t}d\"]\n",
    "                                           .shift(lag))"
   ]
  },
  {
   "cell_type": "markdown",
   "id": "e2d3f6e3-1682-41a9-b031-480e234c4fcd",
   "metadata": {},
   "source": [
    "## SMA-Simple Moving Average"
   ]
  },
  {
   "cell_type": "code",
   "execution_count": 62,
   "id": "8ac8f69b-7797-4dba-99fe-6fd8628a541e",
   "metadata": {},
   "outputs": [],
   "source": [
    "for t in [7,15,21]:\n",
    "    data[f\"sma_{t}d\"]=(data\n",
    "                       .groupby(\"ticker\")\n",
    "                       .close\n",
    "                       .rolling(window=t)\n",
    "                       .mean()\n",
    "                       .shift(1)).values"
   ]
  },
  {
   "cell_type": "markdown",
   "id": "edf6933b-f26c-44ff-9401-19bf8af643b7",
   "metadata": {},
   "source": [
    "## Min Price"
   ]
  },
  {
   "cell_type": "code",
   "execution_count": 64,
   "id": "a6193218-7f18-41ec-b46d-ab12c02fa18f",
   "metadata": {},
   "outputs": [],
   "source": [
    "for t in [7,15,21]:\n",
    "    data[f\"min_price_{t}d\"]=(data\n",
    "                             .groupby(\"ticker\")\n",
    "                             .close\n",
    "                             .rolling(window=t)\n",
    "                             .min()).values"
   ]
  },
  {
   "cell_type": "markdown",
   "id": "497555c7-783a-4262-aab2-3b69ba6391c2",
   "metadata": {},
   "source": [
    "## Max Price"
   ]
  },
  {
   "cell_type": "code",
   "execution_count": 65,
   "id": "da159587-24b5-44d6-a457-1f8bea14d804",
   "metadata": {},
   "outputs": [],
   "source": [
    "for t in [7,15,21]:\n",
    "    data[f\"max_price_{t}d\"]=(data\n",
    "                             .groupby(\"ticker\")\n",
    "                             .close\n",
    "                             .rolling(window=t)\n",
    "                             .max()).values"
   ]
  },
  {
   "cell_type": "markdown",
   "id": "e2bea02c-7f52-49a1-94a9-7cbac8536cc1",
   "metadata": {},
   "source": [
    "## Relative Strength Index (RSI)"
   ]
  },
  {
   "cell_type": "code",
   "execution_count": 67,
   "id": "ed079c68-8f6b-40b5-8048-464ae494fb7d",
   "metadata": {},
   "outputs": [],
   "source": [
    "data[\"rsi\"]=(data\n",
    "             .groupby(\"ticker\")\n",
    "             .close\n",
    "             .transform(lambda x: ta.rsi(x,length=14)))"
   ]
  },
  {
   "cell_type": "markdown",
   "id": "5c28d7ac-989b-4b7d-ae93-a669f4c32a99",
   "metadata": {},
   "source": [
    "## Bollinger Bands"
   ]
  },
  {
   "cell_type": "code",
   "execution_count": 85,
   "id": "450e8cca-79bf-41fb-942d-7aa68cd9e4dc",
   "metadata": {},
   "outputs": [],
   "source": [
    "def compute_bollinger_bands(group):\n",
    "    bb=ta.bbands(group['close'],length=20)\n",
    "    bb=bb.rename(columns={\"BBL_20_2.0\":\"bb_lower\",\"BBU_20_2.0\":\"bb_upper\"})\n",
    "    bb=bb[[\"bb_lower\",\"bb_upper\"]]\n",
    "    return group.join(bb)"
   ]
  },
  {
   "cell_type": "code",
   "execution_count": 86,
   "id": "c3e08933-8216-47f4-b1bc-a3f68667de44",
   "metadata": {},
   "outputs": [],
   "source": [
    "data=data.groupby(\"ticker\",group_keys=False).apply(compute_bollinger_bands)"
   ]
  },
  {
   "cell_type": "code",
   "execution_count": 88,
   "id": "12befdbf-13bf-4680-b72b-fd82dbe25274",
   "metadata": {},
   "outputs": [],
   "source": [
    "data[\"bb_upper\"]=data.bb_upper.sub(data.close).div(data.bb_upper).apply(np.log1p)"
   ]
  },
  {
   "cell_type": "code",
   "execution_count": 89,
   "id": "66575eb3-6ff2-4ad3-af36-241198bcf505",
   "metadata": {},
   "outputs": [],
   "source": [
    "data[\"bb_lower\"]=data.close.sub(data.bb_lower).div(data.close).apply(np.log1p)"
   ]
  },
  {
   "cell_type": "markdown",
   "id": "189167ef-7384-496f-88ae-02ca315b1875",
   "metadata": {},
   "source": [
    "## Average True Range (ATR)"
   ]
  },
  {
   "cell_type": "code",
   "execution_count": 93,
   "id": "eb64b2bb-255f-4a32-b2e8-34f1aa43c59c",
   "metadata": {},
   "outputs": [],
   "source": [
    "def compute_avg_true_range(group):\n",
    "    atr=ta.atr(high=group.high,low=group.low,close=group.close,length=14).to_frame(\"avg_true_range\")\n",
    "    return group.join(atr)"
   ]
  },
  {
   "cell_type": "code",
   "execution_count": 94,
   "id": "930fcfec-cae4-4438-9a7a-d2cd76e078e7",
   "metadata": {},
   "outputs": [],
   "source": [
    "data=data.groupby(\"ticker\",group_keys=False).apply(compute_avg_true_range)"
   ]
  },
  {
   "cell_type": "markdown",
   "id": "39e245f3-b4b7-4b45-a34b-16898d9fa2d5",
   "metadata": {},
   "source": [
    "## Moving Average Convergence Divergence (MACD)"
   ]
  },
  {
   "cell_type": "code",
   "execution_count": 97,
   "id": "cb17a157-8a48-4f8d-ad2b-ca2aef0939d5",
   "metadata": {},
   "outputs": [],
   "source": [
    "def compute_macd(group):\n",
    "    macd=ta.macd(group.close,fast=12,slow=26,signal=9)\n",
    "    macd=macd.rename(columns={\"MACD_12_26_9\":\"macd\",\"MACDs_12_26_9\":\"macd_signal\",\"MACDh_12_26_9\":\"macd_hist\"})\n",
    "    return group.join(macd)"
   ]
  },
  {
   "cell_type": "code",
   "execution_count": 98,
   "id": "34d5ea90-803d-44f7-a866-5ad68ae7e2c6",
   "metadata": {},
   "outputs": [],
   "source": [
    "data=data.groupby(\"ticker\",group_keys=False).apply(compute_macd)"
   ]
  },
  {
   "cell_type": "code",
   "execution_count": null,
   "id": "d74617f0-bf91-4546-b7b1-bbfcf83c2327",
   "metadata": {},
   "outputs": [],
   "source": []
  }
 ],
 "metadata": {
  "kernelspec": {
   "display_name": "Python 3.11.9 (Refinitiv)",
   "language": "python",
   "name": "py3119_refinitiv"
  },
  "language_info": {
   "codemirror_mode": {
    "name": "ipython",
    "version": 3
   },
   "file_extension": ".py",
   "mimetype": "text/x-python",
   "name": "python",
   "nbconvert_exporter": "python",
   "pygments_lexer": "ipython3",
   "version": "3.11.9"
  }
 },
 "nbformat": 4,
 "nbformat_minor": 5
}
