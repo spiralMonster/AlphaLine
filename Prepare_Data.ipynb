{
 "cells": [
  {
   "cell_type": "markdown",
   "id": "19cb3f15-a8ff-4ee3-8955-6d97297a1018",
   "metadata": {},
   "source": [
    "# Imports"
   ]
  },
  {
   "cell_type": "code",
   "execution_count": 1,
   "id": "9747a460-2c50-4239-98b0-d53a540f8d82",
   "metadata": {},
   "outputs": [],
   "source": [
    "import os\n",
    "import numpy as np\n",
    "import pandas as pd\n",
    "import pandas_datareader.data as web\n",
    "from pathlib import Path"
   ]
  },
  {
   "cell_type": "code",
   "execution_count": 2,
   "id": "6d10c5a6-bb79-407c-b162-d0315dea8d78",
   "metadata": {},
   "outputs": [],
   "source": [
    "import pandas_ta as ta"
   ]
  },
  {
   "cell_type": "code",
   "execution_count": 3,
   "id": "f7571950-ff12-465e-a1e8-6ce0f9048943",
   "metadata": {},
   "outputs": [],
   "source": [
    "import json"
   ]
  },
  {
   "cell_type": "markdown",
   "id": "68bcc99e-eae0-402a-a54a-e66a3fdbb854",
   "metadata": {},
   "source": [
    "# Parameters"
   ]
  },
  {
   "cell_type": "code",
   "execution_count": 4,
   "id": "581d0371-048f-4557-87a9-80cd51643f69",
   "metadata": {},
   "outputs": [],
   "source": [
    "total_obs=21*12*8-4"
   ]
  },
  {
   "cell_type": "code",
   "execution_count": 5,
   "id": "b1f916e4-2277-4c9a-8125-90761955c2d1",
   "metadata": {},
   "outputs": [],
   "source": [
    "backtest_start=pd.to_datetime('2010-01-01')\n",
    "backtest_end=pd.to_datetime('2016-01-01')"
   ]
  },
  {
   "cell_type": "code",
   "execution_count": 6,
   "id": "c736aa68-8070-4a83-961e-c12d03ee5d73",
   "metadata": {},
   "outputs": [],
   "source": [
    "fwd_test_start=pd.to_datetime('2016-01-01')\n",
    "fwd_test_end=pd.to_datetime('2018-01-01')"
   ]
  },
  {
   "cell_type": "markdown",
   "id": "b719cd12-39b3-4575-95a1-f3c383c8a64a",
   "metadata": {},
   "source": [
    "# List of SP500 Companies"
   ]
  },
  {
   "cell_type": "code",
   "execution_count": 7,
   "id": "4b1fc18e-4b11-4a28-9bc9-a56b8292b2ea",
   "metadata": {},
   "outputs": [],
   "source": [
    "url=\"https://en.wikipedia.org/wiki/List_of_S%26P_500_companies\""
   ]
  },
  {
   "cell_type": "code",
   "execution_count": 8,
   "id": "8aed129d-ceb0-46f6-8e07-0c7ea9b1bf69",
   "metadata": {},
   "outputs": [],
   "source": [
    "df=pd.read_html(url,header=0)[0]"
   ]
  },
  {
   "cell_type": "code",
   "execution_count": 9,
   "id": "605740da-4263-4dd8-90fa-84dfa1477108",
   "metadata": {},
   "outputs": [],
   "source": [
    "sp500_comp=list(df['Symbol'])"
   ]
  },
  {
   "cell_type": "code",
   "execution_count": 10,
   "id": "0bf0eafe-9f23-4948-9eac-92ec3f9cc989",
   "metadata": {},
   "outputs": [
    {
     "data": {
      "text/plain": [
       "['MMM', 'AOS', 'ABT', 'ABBV', 'ACN', 'ADBE', 'AMD', 'AES', 'AFL', 'A']"
      ]
     },
     "execution_count": 10,
     "metadata": {},
     "output_type": "execute_result"
    }
   ],
   "source": [
    "sp500_comp[:10]"
   ]
  },
  {
   "cell_type": "markdown",
   "id": "bc83ce1c-a0f7-41ff-b9e5-c872679725f3",
   "metadata": {},
   "source": [
    "# Data of Companies in SP500"
   ]
  },
  {
   "cell_type": "code",
   "execution_count": 11,
   "id": "bc1ff85c-98b9-4b53-9cfe-cdb589c4c5b6",
   "metadata": {},
   "outputs": [],
   "source": [
    "equity_csv_path=Path(\"../Data_Store/wiki_prices.csv\")"
   ]
  },
  {
   "cell_type": "code",
   "execution_count": 12,
   "id": "f17a509d-2bdd-4612-aa61-6dd1472588d3",
   "metadata": {},
   "outputs": [],
   "source": [
    "equity_data=pd.read_csv(\n",
    "    equity_csv_path,\n",
    "    parse_dates=['date'],\n",
    "    index_col=['date','ticker']\n",
    ").sort_index()"
   ]
  },
  {
   "cell_type": "code",
   "execution_count": 13,
   "id": "5bb61688-4801-45b1-bb35-1879532b9e59",
   "metadata": {},
   "outputs": [
    {
     "name": "stdout",
     "output_type": "stream",
     "text": [
      "<class 'pandas.core.frame.DataFrame'>\n",
      "MultiIndex: 15389314 entries, (Timestamp('1962-01-02 00:00:00'), 'ARNC') to (Timestamp('2018-03-27 00:00:00'), 'ZUMZ')\n",
      "Data columns (total 12 columns):\n",
      " #   Column       Dtype  \n",
      "---  ------       -----  \n",
      " 0   open         float64\n",
      " 1   high         float64\n",
      " 2   low          float64\n",
      " 3   close        float64\n",
      " 4   volume       float64\n",
      " 5   ex-dividend  float64\n",
      " 6   split_ratio  float64\n",
      " 7   adj_open     float64\n",
      " 8   adj_high     float64\n",
      " 9   adj_low      float64\n",
      " 10  adj_close    float64\n",
      " 11  adj_volume   float64\n",
      "dtypes: float64(12)\n",
      "memory usage: 1.4+ GB\n"
     ]
    }
   ],
   "source": [
    "equity_data.info()"
   ]
  },
  {
   "cell_type": "code",
   "execution_count": 14,
   "id": "708623f5-f749-4284-928a-43c8f438d550",
   "metadata": {},
   "outputs": [],
   "source": [
    "cols_to_include=['adj_open','adj_high','adj_low','adj_close','adj_volume']"
   ]
  },
  {
   "cell_type": "code",
   "execution_count": 15,
   "id": "b9ceaf56-960f-4bb3-b579-4c9af80e8d77",
   "metadata": {},
   "outputs": [],
   "source": [
    "equity_data=equity_data[cols_to_include]"
   ]
  },
  {
   "cell_type": "code",
   "execution_count": 16,
   "id": "b592bc7b-62fc-489b-94a8-e1698c4e4871",
   "metadata": {},
   "outputs": [],
   "source": [
    "available_ticker=equity_data.index.get_level_values(\"ticker\")"
   ]
  },
  {
   "cell_type": "code",
   "execution_count": 17,
   "id": "661bac4b-cac3-446c-a016-f5c51af45caf",
   "metadata": {},
   "outputs": [
    {
     "data": {
      "text/plain": [
       "Index(['ARNC', 'BA', 'CAT', 'DD', 'DIS', 'GE', 'HPQ', 'IBM', 'KO', 'ARNC',\n",
       "       ...\n",
       "       'ZEN', 'ZEUS', 'ZGNX', 'ZION', 'ZIOP', 'ZIXI', 'ZNGA', 'ZOES', 'ZTS',\n",
       "       'ZUMZ'],\n",
       "      dtype='object', name='ticker', length=15389314)"
      ]
     },
     "execution_count": 17,
     "metadata": {},
     "output_type": "execute_result"
    }
   ],
   "source": [
    "available_ticker"
   ]
  },
  {
   "cell_type": "code",
   "execution_count": 18,
   "id": "448f48ef-5b00-4ed1-b444-b3406a239010",
   "metadata": {},
   "outputs": [],
   "source": [
    "equity_data=equity_data[available_ticker.isin(sp500_comp)]"
   ]
  },
  {
   "cell_type": "code",
   "execution_count": 19,
   "id": "f0e60710-30c6-4d9c-98b4-35884fd0f087",
   "metadata": {},
   "outputs": [],
   "source": [
    "data=equity_data[(equity_data.index.get_level_values(\"date\")>=backtest_start)\n",
    "                  &(equity_data.index.get_level_values(\"date\")<=fwd_test_end)]"
   ]
  },
  {
   "cell_type": "code",
   "execution_count": 20,
   "id": "d53e94d6-5f4b-4d9e-8421-c128eae51572",
   "metadata": {},
   "outputs": [],
   "source": [
    "nobs_per_group=data.groupby(\"ticker\").size()\n",
    "keep_ticker=nobs_per_group[nobs_per_group==total_obs].index"
   ]
  },
  {
   "cell_type": "code",
   "execution_count": 21,
   "id": "e4c82670-556c-4d24-b29b-39b562ebd12f",
   "metadata": {},
   "outputs": [],
   "source": [
    "idx=pd.IndexSlice"
   ]
  },
  {
   "cell_type": "code",
   "execution_count": 22,
   "id": "d6e43eb5-3391-422c-bf04-8779cf9946ab",
   "metadata": {},
   "outputs": [],
   "source": [
    "data=data.loc[idx[:,keep_ticker],:]"
   ]
  },
  {
   "cell_type": "code",
   "execution_count": 23,
   "id": "dc617719-6fa8-4407-8c65-3abd95381762",
   "metadata": {},
   "outputs": [
    {
     "name": "stdout",
     "output_type": "stream",
     "text": [
      "<class 'pandas.core.frame.DataFrame'>\n",
      "MultiIndex: 752488 entries, (Timestamp('2010-01-04 00:00:00'), 'A') to (Timestamp('2017-12-29 00:00:00'), 'ZBRA')\n",
      "Data columns (total 5 columns):\n",
      " #   Column      Non-Null Count   Dtype  \n",
      "---  ------      --------------   -----  \n",
      " 0   adj_open    752488 non-null  float64\n",
      " 1   adj_high    752488 non-null  float64\n",
      " 2   adj_low     752488 non-null  float64\n",
      " 3   adj_close   752488 non-null  float64\n",
      " 4   adj_volume  752488 non-null  float64\n",
      "dtypes: float64(5)\n",
      "memory usage: 32.3+ MB\n"
     ]
    }
   ],
   "source": [
    "data.info()"
   ]
  },
  {
   "cell_type": "code",
   "execution_count": 24,
   "id": "3b84dab1-4eea-4e2f-b83e-d7afa959755b",
   "metadata": {},
   "outputs": [
    {
     "data": {
      "text/html": [
       "<div>\n",
       "<style scoped>\n",
       "    .dataframe tbody tr th:only-of-type {\n",
       "        vertical-align: middle;\n",
       "    }\n",
       "\n",
       "    .dataframe tbody tr th {\n",
       "        vertical-align: top;\n",
       "    }\n",
       "\n",
       "    .dataframe thead th {\n",
       "        text-align: right;\n",
       "    }\n",
       "</style>\n",
       "<table border=\"1\" class=\"dataframe\">\n",
       "  <thead>\n",
       "    <tr style=\"text-align: right;\">\n",
       "      <th></th>\n",
       "      <th></th>\n",
       "      <th>adj_open</th>\n",
       "      <th>adj_high</th>\n",
       "      <th>adj_low</th>\n",
       "      <th>adj_close</th>\n",
       "      <th>adj_volume</th>\n",
       "    </tr>\n",
       "    <tr>\n",
       "      <th>date</th>\n",
       "      <th>ticker</th>\n",
       "      <th></th>\n",
       "      <th></th>\n",
       "      <th></th>\n",
       "      <th></th>\n",
       "      <th></th>\n",
       "    </tr>\n",
       "  </thead>\n",
       "  <tbody>\n",
       "    <tr>\n",
       "      <th rowspan=\"5\" valign=\"top\">2010-01-04</th>\n",
       "      <th>A</th>\n",
       "      <td>21.415535</td>\n",
       "      <td>21.579273</td>\n",
       "      <td>21.239108</td>\n",
       "      <td>21.354133</td>\n",
       "      <td>2729300.0</td>\n",
       "    </tr>\n",
       "    <tr>\n",
       "      <th>ACGL</th>\n",
       "      <td>23.936667</td>\n",
       "      <td>24.066667</td>\n",
       "      <td>23.916667</td>\n",
       "      <td>23.983333</td>\n",
       "      <td>1604400.0</td>\n",
       "    </tr>\n",
       "    <tr>\n",
       "      <th>ACN</th>\n",
       "      <td>35.020500</td>\n",
       "      <td>35.594053</td>\n",
       "      <td>35.003630</td>\n",
       "      <td>35.484403</td>\n",
       "      <td>3650100.0</td>\n",
       "    </tr>\n",
       "    <tr>\n",
       "      <th>ADI</th>\n",
       "      <td>25.674932</td>\n",
       "      <td>25.997988</td>\n",
       "      <td>25.529556</td>\n",
       "      <td>25.578015</td>\n",
       "      <td>2102700.0</td>\n",
       "    </tr>\n",
       "    <tr>\n",
       "      <th>ADM</th>\n",
       "      <td>25.917474</td>\n",
       "      <td>26.213862</td>\n",
       "      <td>25.793979</td>\n",
       "      <td>25.909241</td>\n",
       "      <td>3472500.0</td>\n",
       "    </tr>\n",
       "  </tbody>\n",
       "</table>\n",
       "</div>"
      ],
      "text/plain": [
       "                    adj_open   adj_high    adj_low  adj_close  adj_volume\n",
       "date       ticker                                                        \n",
       "2010-01-04 A       21.415535  21.579273  21.239108  21.354133   2729300.0\n",
       "           ACGL    23.936667  24.066667  23.916667  23.983333   1604400.0\n",
       "           ACN     35.020500  35.594053  35.003630  35.484403   3650100.0\n",
       "           ADI     25.674932  25.997988  25.529556  25.578015   2102700.0\n",
       "           ADM     25.917474  26.213862  25.793979  25.909241   3472500.0"
      ]
     },
     "execution_count": 24,
     "metadata": {},
     "output_type": "execute_result"
    }
   ],
   "source": [
    "data.head()"
   ]
  },
  {
   "cell_type": "code",
   "execution_count": 25,
   "id": "132013ac-53d6-4796-8447-09f3ee565e68",
   "metadata": {},
   "outputs": [
    {
     "data": {
      "text/html": [
       "<div>\n",
       "<style scoped>\n",
       "    .dataframe tbody tr th:only-of-type {\n",
       "        vertical-align: middle;\n",
       "    }\n",
       "\n",
       "    .dataframe tbody tr th {\n",
       "        vertical-align: top;\n",
       "    }\n",
       "\n",
       "    .dataframe thead th {\n",
       "        text-align: right;\n",
       "    }\n",
       "</style>\n",
       "<table border=\"1\" class=\"dataframe\">\n",
       "  <thead>\n",
       "    <tr style=\"text-align: right;\">\n",
       "      <th></th>\n",
       "      <th></th>\n",
       "      <th>adj_open</th>\n",
       "      <th>adj_high</th>\n",
       "      <th>adj_low</th>\n",
       "      <th>adj_close</th>\n",
       "      <th>adj_volume</th>\n",
       "    </tr>\n",
       "    <tr>\n",
       "      <th>date</th>\n",
       "      <th>ticker</th>\n",
       "      <th></th>\n",
       "      <th></th>\n",
       "      <th></th>\n",
       "      <th></th>\n",
       "      <th></th>\n",
       "    </tr>\n",
       "  </thead>\n",
       "  <tbody>\n",
       "    <tr>\n",
       "      <th rowspan=\"5\" valign=\"top\">2017-12-29</th>\n",
       "      <th>XEL</th>\n",
       "      <td>48.11</td>\n",
       "      <td>48.29</td>\n",
       "      <td>48.07</td>\n",
       "      <td>48.11</td>\n",
       "      <td>2765244.0</td>\n",
       "    </tr>\n",
       "    <tr>\n",
       "      <th>XOM</th>\n",
       "      <td>84.00</td>\n",
       "      <td>84.20</td>\n",
       "      <td>83.64</td>\n",
       "      <td>83.64</td>\n",
       "      <td>8463522.0</td>\n",
       "    </tr>\n",
       "    <tr>\n",
       "      <th>YUM</th>\n",
       "      <td>82.64</td>\n",
       "      <td>82.71</td>\n",
       "      <td>81.59</td>\n",
       "      <td>81.61</td>\n",
       "      <td>1343728.0</td>\n",
       "    </tr>\n",
       "    <tr>\n",
       "      <th>ZBH</th>\n",
       "      <td>121.75</td>\n",
       "      <td>121.95</td>\n",
       "      <td>120.62</td>\n",
       "      <td>120.67</td>\n",
       "      <td>1021850.0</td>\n",
       "    </tr>\n",
       "    <tr>\n",
       "      <th>ZBRA</th>\n",
       "      <td>104.33</td>\n",
       "      <td>104.94</td>\n",
       "      <td>103.28</td>\n",
       "      <td>103.80</td>\n",
       "      <td>158534.0</td>\n",
       "    </tr>\n",
       "  </tbody>\n",
       "</table>\n",
       "</div>"
      ],
      "text/plain": [
       "                   adj_open  adj_high  adj_low  adj_close  adj_volume\n",
       "date       ticker                                                    \n",
       "2017-12-29 XEL        48.11     48.29    48.07      48.11   2765244.0\n",
       "           XOM        84.00     84.20    83.64      83.64   8463522.0\n",
       "           YUM        82.64     82.71    81.59      81.61   1343728.0\n",
       "           ZBH       121.75    121.95   120.62     120.67   1021850.0\n",
       "           ZBRA      104.33    104.94   103.28     103.80    158534.0"
      ]
     },
     "execution_count": 25,
     "metadata": {},
     "output_type": "execute_result"
    }
   ],
   "source": [
    "data.tail()"
   ]
  },
  {
   "cell_type": "code",
   "execution_count": 26,
   "id": "a99defc4-b821-4606-9847-155bd760927e",
   "metadata": {},
   "outputs": [
    {
     "data": {
      "text/html": [
       "<div>\n",
       "<style scoped>\n",
       "    .dataframe tbody tr th:only-of-type {\n",
       "        vertical-align: middle;\n",
       "    }\n",
       "\n",
       "    .dataframe tbody tr th {\n",
       "        vertical-align: top;\n",
       "    }\n",
       "\n",
       "    .dataframe thead th {\n",
       "        text-align: right;\n",
       "    }\n",
       "</style>\n",
       "<table border=\"1\" class=\"dataframe\">\n",
       "  <thead>\n",
       "    <tr style=\"text-align: right;\">\n",
       "      <th></th>\n",
       "      <th></th>\n",
       "      <th>adj_open</th>\n",
       "      <th>adj_high</th>\n",
       "      <th>adj_low</th>\n",
       "      <th>adj_close</th>\n",
       "      <th>adj_volume</th>\n",
       "    </tr>\n",
       "    <tr>\n",
       "      <th>date</th>\n",
       "      <th>ticker</th>\n",
       "      <th></th>\n",
       "      <th></th>\n",
       "      <th></th>\n",
       "      <th></th>\n",
       "      <th></th>\n",
       "    </tr>\n",
       "  </thead>\n",
       "  <tbody>\n",
       "    <tr>\n",
       "      <th rowspan=\"5\" valign=\"top\">2010-01-04</th>\n",
       "      <th>A</th>\n",
       "      <td>21.415535</td>\n",
       "      <td>21.579273</td>\n",
       "      <td>21.239108</td>\n",
       "      <td>21.354133</td>\n",
       "      <td>2729300.0</td>\n",
       "    </tr>\n",
       "    <tr>\n",
       "      <th>ACGL</th>\n",
       "      <td>23.936667</td>\n",
       "      <td>24.066667</td>\n",
       "      <td>23.916667</td>\n",
       "      <td>23.983333</td>\n",
       "      <td>1604400.0</td>\n",
       "    </tr>\n",
       "    <tr>\n",
       "      <th>ACN</th>\n",
       "      <td>35.020500</td>\n",
       "      <td>35.594053</td>\n",
       "      <td>35.003630</td>\n",
       "      <td>35.484403</td>\n",
       "      <td>3650100.0</td>\n",
       "    </tr>\n",
       "    <tr>\n",
       "      <th>ADI</th>\n",
       "      <td>25.674932</td>\n",
       "      <td>25.997988</td>\n",
       "      <td>25.529556</td>\n",
       "      <td>25.578015</td>\n",
       "      <td>2102700.0</td>\n",
       "    </tr>\n",
       "    <tr>\n",
       "      <th>ADM</th>\n",
       "      <td>25.917474</td>\n",
       "      <td>26.213862</td>\n",
       "      <td>25.793979</td>\n",
       "      <td>25.909241</td>\n",
       "      <td>3472500.0</td>\n",
       "    </tr>\n",
       "    <tr>\n",
       "      <th>...</th>\n",
       "      <th>...</th>\n",
       "      <td>...</td>\n",
       "      <td>...</td>\n",
       "      <td>...</td>\n",
       "      <td>...</td>\n",
       "      <td>...</td>\n",
       "    </tr>\n",
       "    <tr>\n",
       "      <th rowspan=\"5\" valign=\"top\">2017-12-29</th>\n",
       "      <th>XEL</th>\n",
       "      <td>48.110000</td>\n",
       "      <td>48.290000</td>\n",
       "      <td>48.070000</td>\n",
       "      <td>48.110000</td>\n",
       "      <td>2765244.0</td>\n",
       "    </tr>\n",
       "    <tr>\n",
       "      <th>XOM</th>\n",
       "      <td>84.000000</td>\n",
       "      <td>84.200000</td>\n",
       "      <td>83.640000</td>\n",
       "      <td>83.640000</td>\n",
       "      <td>8463522.0</td>\n",
       "    </tr>\n",
       "    <tr>\n",
       "      <th>YUM</th>\n",
       "      <td>82.640000</td>\n",
       "      <td>82.710000</td>\n",
       "      <td>81.590000</td>\n",
       "      <td>81.610000</td>\n",
       "      <td>1343728.0</td>\n",
       "    </tr>\n",
       "    <tr>\n",
       "      <th>ZBH</th>\n",
       "      <td>121.750000</td>\n",
       "      <td>121.950000</td>\n",
       "      <td>120.620000</td>\n",
       "      <td>120.670000</td>\n",
       "      <td>1021850.0</td>\n",
       "    </tr>\n",
       "    <tr>\n",
       "      <th>ZBRA</th>\n",
       "      <td>104.330000</td>\n",
       "      <td>104.940000</td>\n",
       "      <td>103.280000</td>\n",
       "      <td>103.800000</td>\n",
       "      <td>158534.0</td>\n",
       "    </tr>\n",
       "  </tbody>\n",
       "</table>\n",
       "<p>752488 rows × 5 columns</p>\n",
       "</div>"
      ],
      "text/plain": [
       "                     adj_open    adj_high     adj_low   adj_close  adj_volume\n",
       "date       ticker                                                            \n",
       "2010-01-04 A        21.415535   21.579273   21.239108   21.354133   2729300.0\n",
       "           ACGL     23.936667   24.066667   23.916667   23.983333   1604400.0\n",
       "           ACN      35.020500   35.594053   35.003630   35.484403   3650100.0\n",
       "           ADI      25.674932   25.997988   25.529556   25.578015   2102700.0\n",
       "           ADM      25.917474   26.213862   25.793979   25.909241   3472500.0\n",
       "...                       ...         ...         ...         ...         ...\n",
       "2017-12-29 XEL      48.110000   48.290000   48.070000   48.110000   2765244.0\n",
       "           XOM      84.000000   84.200000   83.640000   83.640000   8463522.0\n",
       "           YUM      82.640000   82.710000   81.590000   81.610000   1343728.0\n",
       "           ZBH     121.750000  121.950000  120.620000  120.670000   1021850.0\n",
       "           ZBRA    104.330000  104.940000  103.280000  103.800000    158534.0\n",
       "\n",
       "[752488 rows x 5 columns]"
      ]
     },
     "execution_count": 26,
     "metadata": {},
     "output_type": "execute_result"
    }
   ],
   "source": [
    "data"
   ]
  },
  {
   "cell_type": "markdown",
   "id": "e6fb4f0c-9011-48c1-9e6a-b1ca32c0c5a0",
   "metadata": {},
   "source": [
    "# Fama-French Factor Data"
   ]
  },
  {
   "cell_type": "code",
   "execution_count": 27,
   "id": "673bec7f-5d2a-4aa5-9b88-12ab2dbccafe",
   "metadata": {},
   "outputs": [],
   "source": [
    "start=data.index.get_level_values(\"date\")[0]"
   ]
  },
  {
   "cell_type": "code",
   "execution_count": 28,
   "id": "70d78121-f5e4-433c-a4b3-7e7bfa915054",
   "metadata": {},
   "outputs": [],
   "source": [
    "end=data.index.get_level_values(\"date\")[-1]"
   ]
  },
  {
   "cell_type": "code",
   "execution_count": 29,
   "id": "6b262839-b7a1-476b-b42e-a7854244ca83",
   "metadata": {},
   "outputs": [],
   "source": [
    "url='F-F_Research_Data_5_Factors_2x3_daily'"
   ]
  },
  {
   "cell_type": "code",
   "execution_count": 30,
   "id": "a6f99745-ac65-4f55-9aee-45582ee71845",
   "metadata": {},
   "outputs": [
    {
     "name": "stderr",
     "output_type": "stream",
     "text": [
      "/tmp/ipykernel_89588/748594556.py:1: FutureWarning: The argument 'date_parser' is deprecated and will be removed in a future version. Please use 'date_format' instead, or read your data in as 'object' dtype and then call 'to_datetime'.\n",
      "  factor_data=web.DataReader(url,'famafrench',start=start,end=end)[0]\n"
     ]
    }
   ],
   "source": [
    "factor_data=web.DataReader(url,'famafrench',start=start,end=end)[0]"
   ]
  },
  {
   "cell_type": "code",
   "execution_count": 31,
   "id": "00abdb00-1363-413e-83a2-855492fa5e49",
   "metadata": {},
   "outputs": [
    {
     "name": "stdout",
     "output_type": "stream",
     "text": [
      "<class 'pandas.core.frame.DataFrame'>\n",
      "DatetimeIndex: 2013 entries, 2010-01-04 to 2017-12-29\n",
      "Data columns (total 6 columns):\n",
      " #   Column  Non-Null Count  Dtype  \n",
      "---  ------  --------------  -----  \n",
      " 0   Mkt-RF  2013 non-null   float64\n",
      " 1   SMB     2013 non-null   float64\n",
      " 2   HML     2013 non-null   float64\n",
      " 3   RMW     2013 non-null   float64\n",
      " 4   CMA     2013 non-null   float64\n",
      " 5   RF      2013 non-null   float64\n",
      "dtypes: float64(6)\n",
      "memory usage: 110.1 KB\n"
     ]
    }
   ],
   "source": [
    "factor_data.info()"
   ]
  },
  {
   "cell_type": "code",
   "execution_count": 32,
   "id": "35b09c56-69c0-49ea-a7f2-d22c481c319c",
   "metadata": {},
   "outputs": [
    {
     "data": {
      "text/html": [
       "<div>\n",
       "<style scoped>\n",
       "    .dataframe tbody tr th:only-of-type {\n",
       "        vertical-align: middle;\n",
       "    }\n",
       "\n",
       "    .dataframe tbody tr th {\n",
       "        vertical-align: top;\n",
       "    }\n",
       "\n",
       "    .dataframe thead th {\n",
       "        text-align: right;\n",
       "    }\n",
       "</style>\n",
       "<table border=\"1\" class=\"dataframe\">\n",
       "  <thead>\n",
       "    <tr style=\"text-align: right;\">\n",
       "      <th></th>\n",
       "      <th>Mkt-RF</th>\n",
       "      <th>SMB</th>\n",
       "      <th>HML</th>\n",
       "      <th>RMW</th>\n",
       "      <th>CMA</th>\n",
       "      <th>RF</th>\n",
       "    </tr>\n",
       "    <tr>\n",
       "      <th>Date</th>\n",
       "      <th></th>\n",
       "      <th></th>\n",
       "      <th></th>\n",
       "      <th></th>\n",
       "      <th></th>\n",
       "      <th></th>\n",
       "    </tr>\n",
       "  </thead>\n",
       "  <tbody>\n",
       "    <tr>\n",
       "      <th>2010-01-04</th>\n",
       "      <td>1.69</td>\n",
       "      <td>0.79</td>\n",
       "      <td>1.14</td>\n",
       "      <td>-0.17</td>\n",
       "      <td>0.21</td>\n",
       "      <td>0.0</td>\n",
       "    </tr>\n",
       "    <tr>\n",
       "      <th>2010-01-05</th>\n",
       "      <td>0.31</td>\n",
       "      <td>-0.42</td>\n",
       "      <td>1.22</td>\n",
       "      <td>-0.18</td>\n",
       "      <td>0.19</td>\n",
       "      <td>0.0</td>\n",
       "    </tr>\n",
       "    <tr>\n",
       "      <th>2010-01-06</th>\n",
       "      <td>0.13</td>\n",
       "      <td>-0.14</td>\n",
       "      <td>0.55</td>\n",
       "      <td>-0.05</td>\n",
       "      <td>0.20</td>\n",
       "      <td>0.0</td>\n",
       "    </tr>\n",
       "    <tr>\n",
       "      <th>2010-01-07</th>\n",
       "      <td>0.40</td>\n",
       "      <td>0.25</td>\n",
       "      <td>0.96</td>\n",
       "      <td>-0.66</td>\n",
       "      <td>0.22</td>\n",
       "      <td>0.0</td>\n",
       "    </tr>\n",
       "    <tr>\n",
       "      <th>2010-01-08</th>\n",
       "      <td>0.33</td>\n",
       "      <td>0.31</td>\n",
       "      <td>0.02</td>\n",
       "      <td>0.23</td>\n",
       "      <td>-0.40</td>\n",
       "      <td>0.0</td>\n",
       "    </tr>\n",
       "  </tbody>\n",
       "</table>\n",
       "</div>"
      ],
      "text/plain": [
       "            Mkt-RF   SMB   HML   RMW   CMA   RF\n",
       "Date                                           \n",
       "2010-01-04    1.69  0.79  1.14 -0.17  0.21  0.0\n",
       "2010-01-05    0.31 -0.42  1.22 -0.18  0.19  0.0\n",
       "2010-01-06    0.13 -0.14  0.55 -0.05  0.20  0.0\n",
       "2010-01-07    0.40  0.25  0.96 -0.66  0.22  0.0\n",
       "2010-01-08    0.33  0.31  0.02  0.23 -0.40  0.0"
      ]
     },
     "execution_count": 32,
     "metadata": {},
     "output_type": "execute_result"
    }
   ],
   "source": [
    "factor_data.head()"
   ]
  },
  {
   "cell_type": "code",
   "execution_count": 33,
   "id": "a8800279-da39-49bf-94f2-cd5ffd30db6f",
   "metadata": {},
   "outputs": [
    {
     "data": {
      "text/html": [
       "<div>\n",
       "<style scoped>\n",
       "    .dataframe tbody tr th:only-of-type {\n",
       "        vertical-align: middle;\n",
       "    }\n",
       "\n",
       "    .dataframe tbody tr th {\n",
       "        vertical-align: top;\n",
       "    }\n",
       "\n",
       "    .dataframe thead th {\n",
       "        text-align: right;\n",
       "    }\n",
       "</style>\n",
       "<table border=\"1\" class=\"dataframe\">\n",
       "  <thead>\n",
       "    <tr style=\"text-align: right;\">\n",
       "      <th></th>\n",
       "      <th>Mkt-RF</th>\n",
       "      <th>SMB</th>\n",
       "      <th>HML</th>\n",
       "      <th>RMW</th>\n",
       "      <th>CMA</th>\n",
       "      <th>RF</th>\n",
       "    </tr>\n",
       "    <tr>\n",
       "      <th>Date</th>\n",
       "      <th></th>\n",
       "      <th></th>\n",
       "      <th></th>\n",
       "      <th></th>\n",
       "      <th></th>\n",
       "      <th></th>\n",
       "    </tr>\n",
       "  </thead>\n",
       "  <tbody>\n",
       "    <tr>\n",
       "      <th>2017-12-22</th>\n",
       "      <td>-0.07</td>\n",
       "      <td>-0.19</td>\n",
       "      <td>-0.21</td>\n",
       "      <td>-0.10</td>\n",
       "      <td>0.22</td>\n",
       "      <td>0.004</td>\n",
       "    </tr>\n",
       "    <tr>\n",
       "      <th>2017-12-26</th>\n",
       "      <td>-0.07</td>\n",
       "      <td>0.31</td>\n",
       "      <td>-0.07</td>\n",
       "      <td>-0.13</td>\n",
       "      <td>0.61</td>\n",
       "      <td>0.004</td>\n",
       "    </tr>\n",
       "    <tr>\n",
       "      <th>2017-12-27</th>\n",
       "      <td>0.05</td>\n",
       "      <td>-0.16</td>\n",
       "      <td>-0.20</td>\n",
       "      <td>0.07</td>\n",
       "      <td>-0.12</td>\n",
       "      <td>0.004</td>\n",
       "    </tr>\n",
       "    <tr>\n",
       "      <th>2017-12-28</th>\n",
       "      <td>0.22</td>\n",
       "      <td>0.10</td>\n",
       "      <td>0.05</td>\n",
       "      <td>-0.13</td>\n",
       "      <td>-0.19</td>\n",
       "      <td>0.004</td>\n",
       "    </tr>\n",
       "    <tr>\n",
       "      <th>2017-12-29</th>\n",
       "      <td>-0.57</td>\n",
       "      <td>-0.31</td>\n",
       "      <td>0.01</td>\n",
       "      <td>0.16</td>\n",
       "      <td>0.13</td>\n",
       "      <td>0.004</td>\n",
       "    </tr>\n",
       "  </tbody>\n",
       "</table>\n",
       "</div>"
      ],
      "text/plain": [
       "            Mkt-RF   SMB   HML   RMW   CMA     RF\n",
       "Date                                             \n",
       "2017-12-22   -0.07 -0.19 -0.21 -0.10  0.22  0.004\n",
       "2017-12-26   -0.07  0.31 -0.07 -0.13  0.61  0.004\n",
       "2017-12-27    0.05 -0.16 -0.20  0.07 -0.12  0.004\n",
       "2017-12-28    0.22  0.10  0.05 -0.13 -0.19  0.004\n",
       "2017-12-29   -0.57 -0.31  0.01  0.16  0.13  0.004"
      ]
     },
     "execution_count": 33,
     "metadata": {},
     "output_type": "execute_result"
    }
   ],
   "source": [
    "factor_data.tail()"
   ]
  },
  {
   "cell_type": "code",
   "execution_count": 34,
   "id": "1c5226a2-7a2c-4172-a59f-2bf33984abcd",
   "metadata": {},
   "outputs": [],
   "source": [
    "factor_data.dropna(inplace=True)"
   ]
  },
  {
   "cell_type": "markdown",
   "id": "7cbe399c-1f64-4c5e-b246-8496eaf9de5c",
   "metadata": {},
   "source": [
    "# SP500 Data"
   ]
  },
  {
   "cell_type": "code",
   "execution_count": 35,
   "id": "24f723d4-06dc-400f-9c63-51689a3e8a9a",
   "metadata": {},
   "outputs": [],
   "source": [
    "data_path=Path(\"../Data_Store/sp500_data.csv\")"
   ]
  },
  {
   "cell_type": "code",
   "execution_count": 36,
   "id": "71219c16-f780-4f56-9653-f46b0358034c",
   "metadata": {},
   "outputs": [],
   "source": [
    "data_sp500=pd.read_csv(\n",
    "    data_path,\n",
    "    parse_dates=['Date'],\n",
    "    index_col=['Date']\n",
    "    \n",
    ").sort_index()"
   ]
  },
  {
   "cell_type": "code",
   "execution_count": 37,
   "id": "234d67b4-24f3-4a5c-8e49-726f78e55f7a",
   "metadata": {},
   "outputs": [],
   "source": [
    "data_sp500=data_sp500[\"Close\"].rename({\"Close\":\"sp500_close\"}).to_frame()"
   ]
  },
  {
   "cell_type": "code",
   "execution_count": 38,
   "id": "c71dfe24-b9c2-4878-a3e8-166288974d6a",
   "metadata": {},
   "outputs": [],
   "source": [
    "data_sp500=data_sp500[(data_sp500.index>=backtest_start)&(data_sp500.index<=fwd_test_end)]"
   ]
  },
  {
   "cell_type": "code",
   "execution_count": 39,
   "id": "2c0ad001-53dd-4c95-94a5-ff5d3afc65cb",
   "metadata": {},
   "outputs": [],
   "source": [
    "data_sp500[\"sp500_returns\"]=(data_sp500\n",
    "                             .Close\n",
    "                             .pct_change(1)\n",
    "                            )"
   ]
  },
  {
   "cell_type": "code",
   "execution_count": 40,
   "id": "05a01faf-9e74-4296-8966-9c36fb0ba89a",
   "metadata": {},
   "outputs": [],
   "source": [
    "data_sp500.dropna(inplace=True)"
   ]
  },
  {
   "cell_type": "code",
   "execution_count": 41,
   "id": "9b354fa4-0e2d-4dac-93ca-a398509a6a3a",
   "metadata": {},
   "outputs": [],
   "source": [
    "data_sp500.rename(columns={\"Close\":\"sp500_close\"},inplace=True)"
   ]
  },
  {
   "cell_type": "code",
   "execution_count": 42,
   "id": "04e6a789-fcd7-4edc-bf2a-18b427147f04",
   "metadata": {},
   "outputs": [
    {
     "name": "stdout",
     "output_type": "stream",
     "text": [
      "<class 'pandas.core.frame.DataFrame'>\n",
      "DatetimeIndex: 2012 entries, 2010-01-05 to 2017-12-29\n",
      "Data columns (total 2 columns):\n",
      " #   Column         Non-Null Count  Dtype  \n",
      "---  ------         --------------  -----  \n",
      " 0   sp500_close    2012 non-null   float64\n",
      " 1   sp500_returns  2012 non-null   float64\n",
      "dtypes: float64(2)\n",
      "memory usage: 47.2 KB\n"
     ]
    }
   ],
   "source": [
    "data_sp500.info()"
   ]
  },
  {
   "cell_type": "code",
   "execution_count": 43,
   "id": "72bdb4c4-b874-44be-b03e-516846471b51",
   "metadata": {},
   "outputs": [
    {
     "data": {
      "text/html": [
       "<div>\n",
       "<style scoped>\n",
       "    .dataframe tbody tr th:only-of-type {\n",
       "        vertical-align: middle;\n",
       "    }\n",
       "\n",
       "    .dataframe tbody tr th {\n",
       "        vertical-align: top;\n",
       "    }\n",
       "\n",
       "    .dataframe thead th {\n",
       "        text-align: right;\n",
       "    }\n",
       "</style>\n",
       "<table border=\"1\" class=\"dataframe\">\n",
       "  <thead>\n",
       "    <tr style=\"text-align: right;\">\n",
       "      <th></th>\n",
       "      <th>sp500_close</th>\n",
       "      <th>sp500_returns</th>\n",
       "    </tr>\n",
       "    <tr>\n",
       "      <th>Date</th>\n",
       "      <th></th>\n",
       "      <th></th>\n",
       "    </tr>\n",
       "  </thead>\n",
       "  <tbody>\n",
       "    <tr>\n",
       "      <th>2010-01-05</th>\n",
       "      <td>1136.52</td>\n",
       "      <td>0.003116</td>\n",
       "    </tr>\n",
       "    <tr>\n",
       "      <th>2010-01-06</th>\n",
       "      <td>1137.14</td>\n",
       "      <td>0.000546</td>\n",
       "    </tr>\n",
       "    <tr>\n",
       "      <th>2010-01-07</th>\n",
       "      <td>1141.69</td>\n",
       "      <td>0.004001</td>\n",
       "    </tr>\n",
       "    <tr>\n",
       "      <th>2010-01-08</th>\n",
       "      <td>1144.98</td>\n",
       "      <td>0.002882</td>\n",
       "    </tr>\n",
       "    <tr>\n",
       "      <th>2010-01-11</th>\n",
       "      <td>1146.98</td>\n",
       "      <td>0.001747</td>\n",
       "    </tr>\n",
       "  </tbody>\n",
       "</table>\n",
       "</div>"
      ],
      "text/plain": [
       "            sp500_close  sp500_returns\n",
       "Date                                  \n",
       "2010-01-05      1136.52       0.003116\n",
       "2010-01-06      1137.14       0.000546\n",
       "2010-01-07      1141.69       0.004001\n",
       "2010-01-08      1144.98       0.002882\n",
       "2010-01-11      1146.98       0.001747"
      ]
     },
     "execution_count": 43,
     "metadata": {},
     "output_type": "execute_result"
    }
   ],
   "source": [
    "data_sp500.head()"
   ]
  },
  {
   "cell_type": "code",
   "execution_count": 44,
   "id": "6b796f31-0700-466c-a72e-d283e3bf8889",
   "metadata": {},
   "outputs": [
    {
     "data": {
      "text/html": [
       "<div>\n",
       "<style scoped>\n",
       "    .dataframe tbody tr th:only-of-type {\n",
       "        vertical-align: middle;\n",
       "    }\n",
       "\n",
       "    .dataframe tbody tr th {\n",
       "        vertical-align: top;\n",
       "    }\n",
       "\n",
       "    .dataframe thead th {\n",
       "        text-align: right;\n",
       "    }\n",
       "</style>\n",
       "<table border=\"1\" class=\"dataframe\">\n",
       "  <thead>\n",
       "    <tr style=\"text-align: right;\">\n",
       "      <th></th>\n",
       "      <th>sp500_close</th>\n",
       "      <th>sp500_returns</th>\n",
       "    </tr>\n",
       "    <tr>\n",
       "      <th>Date</th>\n",
       "      <th></th>\n",
       "      <th></th>\n",
       "    </tr>\n",
       "  </thead>\n",
       "  <tbody>\n",
       "    <tr>\n",
       "      <th>2017-12-22</th>\n",
       "      <td>2683.34</td>\n",
       "      <td>-0.000458</td>\n",
       "    </tr>\n",
       "    <tr>\n",
       "      <th>2017-12-26</th>\n",
       "      <td>2680.50</td>\n",
       "      <td>-0.001058</td>\n",
       "    </tr>\n",
       "    <tr>\n",
       "      <th>2017-12-27</th>\n",
       "      <td>2682.62</td>\n",
       "      <td>0.000791</td>\n",
       "    </tr>\n",
       "    <tr>\n",
       "      <th>2017-12-28</th>\n",
       "      <td>2687.54</td>\n",
       "      <td>0.001834</td>\n",
       "    </tr>\n",
       "    <tr>\n",
       "      <th>2017-12-29</th>\n",
       "      <td>2673.61</td>\n",
       "      <td>-0.005183</td>\n",
       "    </tr>\n",
       "  </tbody>\n",
       "</table>\n",
       "</div>"
      ],
      "text/plain": [
       "            sp500_close  sp500_returns\n",
       "Date                                  \n",
       "2017-12-22      2683.34      -0.000458\n",
       "2017-12-26      2680.50      -0.001058\n",
       "2017-12-27      2682.62       0.000791\n",
       "2017-12-28      2687.54       0.001834\n",
       "2017-12-29      2673.61      -0.005183"
      ]
     },
     "execution_count": 44,
     "metadata": {},
     "output_type": "execute_result"
    }
   ],
   "source": [
    "data_sp500.tail()"
   ]
  },
  {
   "cell_type": "markdown",
   "id": "131060ea-e74b-4a68-a8e2-c27454f08843",
   "metadata": {},
   "source": [
    "# Feature Engineering"
   ]
  },
  {
   "cell_type": "code",
   "execution_count": 45,
   "id": "593efd3b-ec09-4cb3-aa95-7aa9ae95a156",
   "metadata": {},
   "outputs": [
    {
     "name": "stdout",
     "output_type": "stream",
     "text": [
      "<class 'pandas.core.frame.DataFrame'>\n",
      "MultiIndex: 752488 entries, (Timestamp('2010-01-04 00:00:00'), 'A') to (Timestamp('2017-12-29 00:00:00'), 'ZBRA')\n",
      "Data columns (total 5 columns):\n",
      " #   Column      Non-Null Count   Dtype  \n",
      "---  ------      --------------   -----  \n",
      " 0   adj_open    752488 non-null  float64\n",
      " 1   adj_high    752488 non-null  float64\n",
      " 2   adj_low     752488 non-null  float64\n",
      " 3   adj_close   752488 non-null  float64\n",
      " 4   adj_volume  752488 non-null  float64\n",
      "dtypes: float64(5)\n",
      "memory usage: 32.3+ MB\n"
     ]
    }
   ],
   "source": [
    "data.info()"
   ]
  },
  {
   "cell_type": "code",
   "execution_count": 46,
   "id": "29f5a1c6-8b5a-4a38-8e7e-09deff228acd",
   "metadata": {},
   "outputs": [],
   "source": [
    "data=data.rename(columns=lambda x: x.replace(\"adj_\",\"\"))"
   ]
  },
  {
   "cell_type": "markdown",
   "id": "046b8116-c5ba-4c7c-b5ca-de3546fa367f",
   "metadata": {},
   "source": [
    "## Dollar Volume"
   ]
  },
  {
   "cell_type": "code",
   "execution_count": 47,
   "id": "4ca2c3a9-a0f9-462d-9bed-6282e30cb0ce",
   "metadata": {},
   "outputs": [],
   "source": [
    "data[\"dollar_volume\"]=data[[\"close\",\"volume\"]].prod(axis=1)"
   ]
  },
  {
   "cell_type": "code",
   "execution_count": 48,
   "id": "13f50d16-db9d-449b-9373-d918001cbb04",
   "metadata": {},
   "outputs": [],
   "source": [
    "for t in [7,15,21]:\n",
    "    data[f\"dollar_volume_{t}d\"]=(data.dollar_volume\n",
    "                                 .groupby(\"ticker\")\n",
    "                                 .transform(lambda x: x.rolling(window=t).mean())\n",
    "                                )\n",
    "                                 "
   ]
  },
  {
   "cell_type": "code",
   "execution_count": 49,
   "id": "62a94b69-1001-4d39-87c9-41a76d54c315",
   "metadata": {},
   "outputs": [],
   "source": [
    "data[\"dollar_volume_rank\"]=(data\n",
    "                            .groupby(\"date\")\n",
    "                            .dollar_volume_21d\n",
    "                            .rank(ascending=False))"
   ]
  },
  {
   "cell_type": "markdown",
   "id": "2cf3ae68-abed-4580-98a1-a5fceda311e2",
   "metadata": {},
   "source": [
    "## Returns"
   ]
  },
  {
   "cell_type": "code",
   "execution_count": 50,
   "id": "3c76d924-bfbb-458e-b740-8f497e753b0f",
   "metadata": {},
   "outputs": [],
   "source": [
    "q=0.0001"
   ]
  },
  {
   "cell_type": "code",
   "execution_count": 51,
   "id": "af73806f-d434-4a18-91d4-c0104a9c9bfb",
   "metadata": {},
   "outputs": [],
   "source": [
    "for t in [1,7,15,21]:\n",
    "    data[f\"returns_{t}d\"]=(data\n",
    "                           .groupby(\"ticker\")\n",
    "                           .close\n",
    "                           .pct_change(t)\n",
    "                           .pipe(lambda x: x.clip(lower=x.quantile(q),upper=x.quantile(1-q)))\n",
    "                           .add(1)\n",
    "                           .pow(1/t)\n",
    "                           .sub(1))"
   ]
  },
  {
   "cell_type": "markdown",
   "id": "9ccf3389-7787-405a-8bbd-20a3dd279dd7",
   "metadata": {},
   "source": [
    "## Lagged Returns"
   ]
  },
  {
   "cell_type": "code",
   "execution_count": 52,
   "id": "b2b0a31a-8a0b-4e5a-b058-d4dcd3451ad9",
   "metadata": {},
   "outputs": [],
   "source": [
    "for t in [1,7,15,21]:\n",
    "    for lag in [1,3,5,7]:\n",
    "        data[f\"returns_{t}d_lag{lag}\"]=(data\n",
    "                                        .groupby(\"ticker\")[f\"returns_{t}d\"]\n",
    "                                        .shift(lag))"
   ]
  },
  {
   "cell_type": "markdown",
   "id": "1630bd11-4ee3-43a5-84fc-00bbf18b15de",
   "metadata": {},
   "source": [
    "## Momentum"
   ]
  },
  {
   "cell_type": "code",
   "execution_count": 53,
   "id": "3cfb323f-78f6-41c2-8b04-eb347e31e3f1",
   "metadata": {},
   "outputs": [],
   "source": [
    "for t in [7,15,21]:\n",
    "    data[f\"momentum_{t}d\"]=(data.\n",
    "                            groupby(\"ticker\")\n",
    "                            .returns_1d\n",
    "                            .transform(lambda x: x.rolling(window=t).mean())\n",
    "                            )"
   ]
  },
  {
   "cell_type": "markdown",
   "id": "b32d5218-d556-458d-9f56-e16dc8d34c34",
   "metadata": {},
   "source": [
    "## Lagged Momentum"
   ]
  },
  {
   "cell_type": "code",
   "execution_count": 54,
   "id": "b0c16dd0-5efb-4c92-9163-52eff566ab18",
   "metadata": {},
   "outputs": [],
   "source": [
    "for t in [7,15,21]:\n",
    "    for lag in [1,3,5,7]:\n",
    "        data[f\"momentum_{t}d_lag{lag}\"]=(data.\n",
    "                                         groupby(\"ticker\")[f\"momentum_{t}d\"].\n",
    "                                         shift(lag))"
   ]
  },
  {
   "cell_type": "markdown",
   "id": "970a6f08-f462-4c13-9ef0-c46559566f01",
   "metadata": {},
   "source": [
    "## Volatility"
   ]
  },
  {
   "cell_type": "code",
   "execution_count": 55,
   "id": "0a381dd5-23ed-45c1-be74-f6bf1d02dd16",
   "metadata": {},
   "outputs": [],
   "source": [
    "for t in [7,15,21]:\n",
    "    data[f\"volatility_{t}d\"]=(data\n",
    "                              .groupby(\"ticker\")\n",
    "                              .returns_1d\n",
    "                              .transform(lambda x: x.rolling(window=t).std())\n",
    "                             )"
   ]
  },
  {
   "cell_type": "markdown",
   "id": "58a5853e-1494-4f8a-a976-851fd62cd7c4",
   "metadata": {},
   "source": [
    "## Lagged Volatility"
   ]
  },
  {
   "cell_type": "code",
   "execution_count": 56,
   "id": "22748493-6d65-4080-87fa-37dc27819408",
   "metadata": {},
   "outputs": [],
   "source": [
    "for t in [7,15,21]:\n",
    "    for lag in [1,3,5,7]:\n",
    "        data[f\"volatility_{t}d_lag{lag}\"]=(data\n",
    "                                           .groupby(\"ticker\")[f\"volatility_{t}d\"]\n",
    "                                           .shift(lag))"
   ]
  },
  {
   "cell_type": "markdown",
   "id": "e2d3f6e3-1682-41a9-b031-480e234c4fcd",
   "metadata": {},
   "source": [
    "## SMA-Simple Moving Average"
   ]
  },
  {
   "cell_type": "code",
   "execution_count": 57,
   "id": "8ac8f69b-7797-4dba-99fe-6fd8628a541e",
   "metadata": {},
   "outputs": [],
   "source": [
    "for t in [7,15,21]:\n",
    "    data[f\"sma_{t}d\"]=(data\n",
    "                       .groupby(\"ticker\")\n",
    "                       .close\n",
    "                       .transform(lambda x: x.rolling(window=t).mean())\n",
    "                      )"
   ]
  },
  {
   "cell_type": "markdown",
   "id": "edf6933b-f26c-44ff-9401-19bf8af643b7",
   "metadata": {},
   "source": [
    "## Min Price"
   ]
  },
  {
   "cell_type": "code",
   "execution_count": 58,
   "id": "a6193218-7f18-41ec-b46d-ab12c02fa18f",
   "metadata": {},
   "outputs": [],
   "source": [
    "for t in [7,15,21]:\n",
    "    data[f\"min_price_{t}d\"]=(data\n",
    "                             .groupby(\"ticker\")\n",
    "                             .close\n",
    "                             .transform(lambda x: x.rolling(window=t).min())\n",
    "                            )"
   ]
  },
  {
   "cell_type": "markdown",
   "id": "497555c7-783a-4262-aab2-3b69ba6391c2",
   "metadata": {},
   "source": [
    "## Max Price"
   ]
  },
  {
   "cell_type": "code",
   "execution_count": 59,
   "id": "da159587-24b5-44d6-a457-1f8bea14d804",
   "metadata": {},
   "outputs": [],
   "source": [
    "for t in [7,15,21]:\n",
    "    data[f\"max_price_{t}d\"]=(data\n",
    "                             .groupby(\"ticker\")\n",
    "                             .close\n",
    "                             .transform(lambda x: x.rolling(window=t).max())\n",
    "                            )"
   ]
  },
  {
   "cell_type": "markdown",
   "id": "e2bea02c-7f52-49a1-94a9-7cbac8536cc1",
   "metadata": {},
   "source": [
    "## Relative Strength Index (RSI)"
   ]
  },
  {
   "cell_type": "code",
   "execution_count": 60,
   "id": "ed079c68-8f6b-40b5-8048-464ae494fb7d",
   "metadata": {},
   "outputs": [],
   "source": [
    "data[\"rsi\"]=(data\n",
    "             .groupby(\"ticker\")\n",
    "             .close\n",
    "             .transform(lambda x: ta.rsi(x,length=14)))"
   ]
  },
  {
   "cell_type": "markdown",
   "id": "5c28d7ac-989b-4b7d-ae93-a669f4c32a99",
   "metadata": {},
   "source": [
    "## Bollinger Bands"
   ]
  },
  {
   "cell_type": "code",
   "execution_count": 61,
   "id": "450e8cca-79bf-41fb-942d-7aa68cd9e4dc",
   "metadata": {},
   "outputs": [],
   "source": [
    "def compute_bollinger_bands(group):\n",
    "    bb=ta.bbands(group['close'],length=20)\n",
    "    bb=bb.rename(columns={\"BBL_20_2.0\":\"bb_lower\",\"BBU_20_2.0\":\"bb_upper\"})\n",
    "    bb=bb[[\"bb_lower\",\"bb_upper\"]]\n",
    "    return group.join(bb)"
   ]
  },
  {
   "cell_type": "code",
   "execution_count": 62,
   "id": "c3e08933-8216-47f4-b1bc-a3f68667de44",
   "metadata": {},
   "outputs": [],
   "source": [
    "data=data.groupby(\"ticker\",group_keys=False).apply(compute_bollinger_bands)"
   ]
  },
  {
   "cell_type": "code",
   "execution_count": 63,
   "id": "12befdbf-13bf-4680-b72b-fd82dbe25274",
   "metadata": {},
   "outputs": [],
   "source": [
    "data[\"bb_upper\"]=data.bb_upper.sub(data.close).div(data.bb_upper).apply(np.log1p)"
   ]
  },
  {
   "cell_type": "code",
   "execution_count": 64,
   "id": "66575eb3-6ff2-4ad3-af36-241198bcf505",
   "metadata": {},
   "outputs": [],
   "source": [
    "data[\"bb_lower\"]=data.close.sub(data.bb_lower).div(data.close).apply(np.log1p)"
   ]
  },
  {
   "cell_type": "markdown",
   "id": "189167ef-7384-496f-88ae-02ca315b1875",
   "metadata": {},
   "source": [
    "## Average True Range (ATR)"
   ]
  },
  {
   "cell_type": "code",
   "execution_count": 65,
   "id": "eb64b2bb-255f-4a32-b2e8-34f1aa43c59c",
   "metadata": {},
   "outputs": [],
   "source": [
    "def compute_avg_true_range(group):\n",
    "    atr=ta.atr(high=group.high,low=group.low,close=group.close,length=14).to_frame(\"avg_true_range\")\n",
    "    return group.join(atr)"
   ]
  },
  {
   "cell_type": "code",
   "execution_count": 66,
   "id": "930fcfec-cae4-4438-9a7a-d2cd76e078e7",
   "metadata": {},
   "outputs": [],
   "source": [
    "data=data.groupby(\"ticker\",group_keys=False).apply(compute_avg_true_range)"
   ]
  },
  {
   "cell_type": "markdown",
   "id": "39e245f3-b4b7-4b45-a34b-16898d9fa2d5",
   "metadata": {},
   "source": [
    "## Moving Average Convergence Divergence (MACD)"
   ]
  },
  {
   "cell_type": "code",
   "execution_count": 67,
   "id": "cb17a157-8a48-4f8d-ad2b-ca2aef0939d5",
   "metadata": {},
   "outputs": [],
   "source": [
    "def compute_macd(group):\n",
    "    macd=ta.macd(group.close,fast=12,slow=26,signal=9)\n",
    "    macd=macd.rename(columns={\"MACD_12_26_9\":\"macd\",\"MACDs_12_26_9\":\"macd_signal\",\"MACDh_12_26_9\":\"macd_hist\"})\n",
    "    return group.join(macd)"
   ]
  },
  {
   "cell_type": "code",
   "execution_count": 68,
   "id": "34d5ea90-803d-44f7-a866-5ad68ae7e2c6",
   "metadata": {},
   "outputs": [],
   "source": [
    "data=data.groupby(\"ticker\",group_keys=False).apply(compute_macd)"
   ]
  },
  {
   "cell_type": "markdown",
   "id": "a511347c-c4ed-4787-9114-47a33df89773",
   "metadata": {},
   "source": [
    "## Forward Returns"
   ]
  },
  {
   "cell_type": "code",
   "execution_count": 69,
   "id": "83ba25cb-cbfc-4c6a-ab06-34436ec38a5e",
   "metadata": {},
   "outputs": [],
   "source": [
    "for fwd_steps in [1,5,7,15,21]:\n",
    "    data[f\"forward_returns_{fwd_steps}d\"]=(data\n",
    "                                           .groupby(\"ticker\")\n",
    "                                           .returns_1d\n",
    "                                           .shift(-fwd_steps)\n",
    "                                           )"
   ]
  },
  {
   "cell_type": "code",
   "execution_count": 70,
   "id": "d14042ab-a806-415c-8402-4196319d8968",
   "metadata": {},
   "outputs": [
    {
     "data": {
      "text/html": [
       "<div>\n",
       "<style scoped>\n",
       "    .dataframe tbody tr th:only-of-type {\n",
       "        vertical-align: middle;\n",
       "    }\n",
       "\n",
       "    .dataframe tbody tr th {\n",
       "        vertical-align: top;\n",
       "    }\n",
       "\n",
       "    .dataframe thead th {\n",
       "        text-align: right;\n",
       "    }\n",
       "</style>\n",
       "<table border=\"1\" class=\"dataframe\">\n",
       "  <thead>\n",
       "    <tr style=\"text-align: right;\">\n",
       "      <th></th>\n",
       "      <th></th>\n",
       "      <th>open</th>\n",
       "      <th>high</th>\n",
       "      <th>low</th>\n",
       "      <th>close</th>\n",
       "      <th>volume</th>\n",
       "      <th>dollar_volume</th>\n",
       "      <th>dollar_volume_7d</th>\n",
       "      <th>dollar_volume_15d</th>\n",
       "      <th>dollar_volume_21d</th>\n",
       "      <th>dollar_volume_rank</th>\n",
       "      <th>...</th>\n",
       "      <th>bb_upper</th>\n",
       "      <th>avg_true_range</th>\n",
       "      <th>macd</th>\n",
       "      <th>macd_hist</th>\n",
       "      <th>macd_signal</th>\n",
       "      <th>forward_returns_1d</th>\n",
       "      <th>forward_returns_5d</th>\n",
       "      <th>forward_returns_7d</th>\n",
       "      <th>forward_returns_15d</th>\n",
       "      <th>forward_returns_21d</th>\n",
       "    </tr>\n",
       "    <tr>\n",
       "      <th>date</th>\n",
       "      <th>ticker</th>\n",
       "      <th></th>\n",
       "      <th></th>\n",
       "      <th></th>\n",
       "      <th></th>\n",
       "      <th></th>\n",
       "      <th></th>\n",
       "      <th></th>\n",
       "      <th></th>\n",
       "      <th></th>\n",
       "      <th></th>\n",
       "      <th></th>\n",
       "      <th></th>\n",
       "      <th></th>\n",
       "      <th></th>\n",
       "      <th></th>\n",
       "      <th></th>\n",
       "      <th></th>\n",
       "      <th></th>\n",
       "      <th></th>\n",
       "      <th></th>\n",
       "      <th></th>\n",
       "    </tr>\n",
       "  </thead>\n",
       "  <tbody>\n",
       "    <tr>\n",
       "      <th rowspan=\"5\" valign=\"top\">2010-01-04</th>\n",
       "      <th>A</th>\n",
       "      <td>21.415535</td>\n",
       "      <td>21.579273</td>\n",
       "      <td>21.239108</td>\n",
       "      <td>21.354133</td>\n",
       "      <td>2729300.0</td>\n",
       "      <td>5.828184e+07</td>\n",
       "      <td>NaN</td>\n",
       "      <td>NaN</td>\n",
       "      <td>NaN</td>\n",
       "      <td>NaN</td>\n",
       "      <td>...</td>\n",
       "      <td>NaN</td>\n",
       "      <td>NaN</td>\n",
       "      <td>NaN</td>\n",
       "      <td>NaN</td>\n",
       "      <td>NaN</td>\n",
       "      <td>-0.010863</td>\n",
       "      <td>0.000649</td>\n",
       "      <td>0.007882</td>\n",
       "      <td>-0.005433</td>\n",
       "      <td>0.001356</td>\n",
       "    </tr>\n",
       "    <tr>\n",
       "      <th>ACGL</th>\n",
       "      <td>23.936667</td>\n",
       "      <td>24.066667</td>\n",
       "      <td>23.916667</td>\n",
       "      <td>23.983333</td>\n",
       "      <td>1604400.0</td>\n",
       "      <td>3.847886e+07</td>\n",
       "      <td>NaN</td>\n",
       "      <td>NaN</td>\n",
       "      <td>NaN</td>\n",
       "      <td>NaN</td>\n",
       "      <td>...</td>\n",
       "      <td>NaN</td>\n",
       "      <td>NaN</td>\n",
       "      <td>NaN</td>\n",
       "      <td>NaN</td>\n",
       "      <td>NaN</td>\n",
       "      <td>-0.003336</td>\n",
       "      <td>-0.003106</td>\n",
       "      <td>0.005366</td>\n",
       "      <td>-0.005719</td>\n",
       "      <td>0.000569</td>\n",
       "    </tr>\n",
       "    <tr>\n",
       "      <th>ACN</th>\n",
       "      <td>35.020500</td>\n",
       "      <td>35.594053</td>\n",
       "      <td>35.003630</td>\n",
       "      <td>35.484403</td>\n",
       "      <td>3650100.0</td>\n",
       "      <td>1.295216e+08</td>\n",
       "      <td>NaN</td>\n",
       "      <td>NaN</td>\n",
       "      <td>NaN</td>\n",
       "      <td>NaN</td>\n",
       "      <td>...</td>\n",
       "      <td>NaN</td>\n",
       "      <td>NaN</td>\n",
       "      <td>NaN</td>\n",
       "      <td>NaN</td>\n",
       "      <td>NaN</td>\n",
       "      <td>0.006180</td>\n",
       "      <td>-0.000940</td>\n",
       "      <td>0.011358</td>\n",
       "      <td>-0.001194</td>\n",
       "      <td>-0.000481</td>\n",
       "    </tr>\n",
       "    <tr>\n",
       "      <th>ADI</th>\n",
       "      <td>25.674932</td>\n",
       "      <td>25.997988</td>\n",
       "      <td>25.529556</td>\n",
       "      <td>25.578015</td>\n",
       "      <td>2102700.0</td>\n",
       "      <td>5.378289e+07</td>\n",
       "      <td>NaN</td>\n",
       "      <td>NaN</td>\n",
       "      <td>NaN</td>\n",
       "      <td>NaN</td>\n",
       "      <td>...</td>\n",
       "      <td>NaN</td>\n",
       "      <td>NaN</td>\n",
       "      <td>NaN</td>\n",
       "      <td>NaN</td>\n",
       "      <td>NaN</td>\n",
       "      <td>-0.001579</td>\n",
       "      <td>-0.005716</td>\n",
       "      <td>-0.000333</td>\n",
       "      <td>-0.014638</td>\n",
       "      <td>-0.004680</td>\n",
       "    </tr>\n",
       "    <tr>\n",
       "      <th>ADM</th>\n",
       "      <td>25.917474</td>\n",
       "      <td>26.213862</td>\n",
       "      <td>25.793979</td>\n",
       "      <td>25.909241</td>\n",
       "      <td>3472500.0</td>\n",
       "      <td>8.996984e+07</td>\n",
       "      <td>NaN</td>\n",
       "      <td>NaN</td>\n",
       "      <td>NaN</td>\n",
       "      <td>NaN</td>\n",
       "      <td>...</td>\n",
       "      <td>NaN</td>\n",
       "      <td>NaN</td>\n",
       "      <td>NaN</td>\n",
       "      <td>NaN</td>\n",
       "      <td>NaN</td>\n",
       "      <td>0.005402</td>\n",
       "      <td>0.000649</td>\n",
       "      <td>0.004258</td>\n",
       "      <td>-0.004703</td>\n",
       "      <td>-0.014227</td>\n",
       "    </tr>\n",
       "    <tr>\n",
       "      <th>...</th>\n",
       "      <th>...</th>\n",
       "      <td>...</td>\n",
       "      <td>...</td>\n",
       "      <td>...</td>\n",
       "      <td>...</td>\n",
       "      <td>...</td>\n",
       "      <td>...</td>\n",
       "      <td>...</td>\n",
       "      <td>...</td>\n",
       "      <td>...</td>\n",
       "      <td>...</td>\n",
       "      <td>...</td>\n",
       "      <td>...</td>\n",
       "      <td>...</td>\n",
       "      <td>...</td>\n",
       "      <td>...</td>\n",
       "      <td>...</td>\n",
       "      <td>...</td>\n",
       "      <td>...</td>\n",
       "      <td>...</td>\n",
       "      <td>...</td>\n",
       "      <td>...</td>\n",
       "    </tr>\n",
       "    <tr>\n",
       "      <th rowspan=\"5\" valign=\"top\">2017-12-29</th>\n",
       "      <th>XEL</th>\n",
       "      <td>48.110000</td>\n",
       "      <td>48.290000</td>\n",
       "      <td>48.070000</td>\n",
       "      <td>48.110000</td>\n",
       "      <td>2765244.0</td>\n",
       "      <td>1.330359e+08</td>\n",
       "      <td>1.486776e+08</td>\n",
       "      <td>1.582446e+08</td>\n",
       "      <td>1.542423e+08</td>\n",
       "      <td>190.0</td>\n",
       "      <td>...</td>\n",
       "      <td>0.080295</td>\n",
       "      <td>0.579526</td>\n",
       "      <td>-0.675182</td>\n",
       "      <td>-0.288591</td>\n",
       "      <td>-0.386591</td>\n",
       "      <td>NaN</td>\n",
       "      <td>NaN</td>\n",
       "      <td>NaN</td>\n",
       "      <td>NaN</td>\n",
       "      <td>NaN</td>\n",
       "    </tr>\n",
       "    <tr>\n",
       "      <th>XOM</th>\n",
       "      <td>84.000000</td>\n",
       "      <td>84.200000</td>\n",
       "      <td>83.640000</td>\n",
       "      <td>83.640000</td>\n",
       "      <td>8463522.0</td>\n",
       "      <td>7.078890e+08</td>\n",
       "      <td>7.328977e+08</td>\n",
       "      <td>8.678067e+08</td>\n",
       "      <td>9.217507e+08</td>\n",
       "      <td>16.0</td>\n",
       "      <td>...</td>\n",
       "      <td>0.007602</td>\n",
       "      <td>0.684221</td>\n",
       "      <td>0.396903</td>\n",
       "      <td>0.083335</td>\n",
       "      <td>0.313568</td>\n",
       "      <td>NaN</td>\n",
       "      <td>NaN</td>\n",
       "      <td>NaN</td>\n",
       "      <td>NaN</td>\n",
       "      <td>NaN</td>\n",
       "    </tr>\n",
       "    <tr>\n",
       "      <th>YUM</th>\n",
       "      <td>82.640000</td>\n",
       "      <td>82.710000</td>\n",
       "      <td>81.590000</td>\n",
       "      <td>81.610000</td>\n",
       "      <td>1343728.0</td>\n",
       "      <td>1.096616e+08</td>\n",
       "      <td>8.422477e+07</td>\n",
       "      <td>1.217347e+08</td>\n",
       "      <td>1.376934e+08</td>\n",
       "      <td>216.0</td>\n",
       "      <td>...</td>\n",
       "      <td>0.023987</td>\n",
       "      <td>0.937312</td>\n",
       "      <td>0.560779</td>\n",
       "      <td>-0.258010</td>\n",
       "      <td>0.818789</td>\n",
       "      <td>NaN</td>\n",
       "      <td>NaN</td>\n",
       "      <td>NaN</td>\n",
       "      <td>NaN</td>\n",
       "      <td>NaN</td>\n",
       "    </tr>\n",
       "    <tr>\n",
       "      <th>ZBH</th>\n",
       "      <td>121.750000</td>\n",
       "      <td>121.950000</td>\n",
       "      <td>120.620000</td>\n",
       "      <td>120.670000</td>\n",
       "      <td>1021850.0</td>\n",
       "      <td>1.233066e+08</td>\n",
       "      <td>1.119114e+08</td>\n",
       "      <td>1.669807e+08</td>\n",
       "      <td>1.617899e+08</td>\n",
       "      <td>179.0</td>\n",
       "      <td>...</td>\n",
       "      <td>0.020777</td>\n",
       "      <td>2.044254</td>\n",
       "      <td>1.691002</td>\n",
       "      <td>0.575195</td>\n",
       "      <td>1.115808</td>\n",
       "      <td>NaN</td>\n",
       "      <td>NaN</td>\n",
       "      <td>NaN</td>\n",
       "      <td>NaN</td>\n",
       "      <td>NaN</td>\n",
       "    </tr>\n",
       "    <tr>\n",
       "      <th>ZBRA</th>\n",
       "      <td>104.330000</td>\n",
       "      <td>104.940000</td>\n",
       "      <td>103.280000</td>\n",
       "      <td>103.800000</td>\n",
       "      <td>158534.0</td>\n",
       "      <td>1.645583e+07</td>\n",
       "      <td>2.304390e+07</td>\n",
       "      <td>2.597129e+07</td>\n",
       "      <td>2.797174e+07</td>\n",
       "      <td>366.0</td>\n",
       "      <td>...</td>\n",
       "      <td>0.054910</td>\n",
       "      <td>2.085912</td>\n",
       "      <td>-1.082234</td>\n",
       "      <td>-0.044948</td>\n",
       "      <td>-1.037287</td>\n",
       "      <td>NaN</td>\n",
       "      <td>NaN</td>\n",
       "      <td>NaN</td>\n",
       "      <td>NaN</td>\n",
       "      <td>NaN</td>\n",
       "    </tr>\n",
       "  </tbody>\n",
       "</table>\n",
       "<p>752488 rows × 81 columns</p>\n",
       "</div>"
      ],
      "text/plain": [
       "                         open        high         low       close     volume  \\\n",
       "date       ticker                                                              \n",
       "2010-01-04 A        21.415535   21.579273   21.239108   21.354133  2729300.0   \n",
       "           ACGL     23.936667   24.066667   23.916667   23.983333  1604400.0   \n",
       "           ACN      35.020500   35.594053   35.003630   35.484403  3650100.0   \n",
       "           ADI      25.674932   25.997988   25.529556   25.578015  2102700.0   \n",
       "           ADM      25.917474   26.213862   25.793979   25.909241  3472500.0   \n",
       "...                       ...         ...         ...         ...        ...   \n",
       "2017-12-29 XEL      48.110000   48.290000   48.070000   48.110000  2765244.0   \n",
       "           XOM      84.000000   84.200000   83.640000   83.640000  8463522.0   \n",
       "           YUM      82.640000   82.710000   81.590000   81.610000  1343728.0   \n",
       "           ZBH     121.750000  121.950000  120.620000  120.670000  1021850.0   \n",
       "           ZBRA    104.330000  104.940000  103.280000  103.800000   158534.0   \n",
       "\n",
       "                   dollar_volume  dollar_volume_7d  dollar_volume_15d  \\\n",
       "date       ticker                                                       \n",
       "2010-01-04 A        5.828184e+07               NaN                NaN   \n",
       "           ACGL     3.847886e+07               NaN                NaN   \n",
       "           ACN      1.295216e+08               NaN                NaN   \n",
       "           ADI      5.378289e+07               NaN                NaN   \n",
       "           ADM      8.996984e+07               NaN                NaN   \n",
       "...                          ...               ...                ...   \n",
       "2017-12-29 XEL      1.330359e+08      1.486776e+08       1.582446e+08   \n",
       "           XOM      7.078890e+08      7.328977e+08       8.678067e+08   \n",
       "           YUM      1.096616e+08      8.422477e+07       1.217347e+08   \n",
       "           ZBH      1.233066e+08      1.119114e+08       1.669807e+08   \n",
       "           ZBRA     1.645583e+07      2.304390e+07       2.597129e+07   \n",
       "\n",
       "                   dollar_volume_21d  dollar_volume_rank  ...  bb_upper  \\\n",
       "date       ticker                                         ...             \n",
       "2010-01-04 A                     NaN                 NaN  ...       NaN   \n",
       "           ACGL                  NaN                 NaN  ...       NaN   \n",
       "           ACN                   NaN                 NaN  ...       NaN   \n",
       "           ADI                   NaN                 NaN  ...       NaN   \n",
       "           ADM                   NaN                 NaN  ...       NaN   \n",
       "...                              ...                 ...  ...       ...   \n",
       "2017-12-29 XEL          1.542423e+08               190.0  ...  0.080295   \n",
       "           XOM          9.217507e+08                16.0  ...  0.007602   \n",
       "           YUM          1.376934e+08               216.0  ...  0.023987   \n",
       "           ZBH          1.617899e+08               179.0  ...  0.020777   \n",
       "           ZBRA         2.797174e+07               366.0  ...  0.054910   \n",
       "\n",
       "                   avg_true_range      macd  macd_hist  macd_signal  \\\n",
       "date       ticker                                                     \n",
       "2010-01-04 A                  NaN       NaN        NaN          NaN   \n",
       "           ACGL               NaN       NaN        NaN          NaN   \n",
       "           ACN                NaN       NaN        NaN          NaN   \n",
       "           ADI                NaN       NaN        NaN          NaN   \n",
       "           ADM                NaN       NaN        NaN          NaN   \n",
       "...                           ...       ...        ...          ...   \n",
       "2017-12-29 XEL           0.579526 -0.675182  -0.288591    -0.386591   \n",
       "           XOM           0.684221  0.396903   0.083335     0.313568   \n",
       "           YUM           0.937312  0.560779  -0.258010     0.818789   \n",
       "           ZBH           2.044254  1.691002   0.575195     1.115808   \n",
       "           ZBRA          2.085912 -1.082234  -0.044948    -1.037287   \n",
       "\n",
       "                   forward_returns_1d  forward_returns_5d  forward_returns_7d  \\\n",
       "date       ticker                                                               \n",
       "2010-01-04 A                -0.010863            0.000649            0.007882   \n",
       "           ACGL             -0.003336           -0.003106            0.005366   \n",
       "           ACN               0.006180           -0.000940            0.011358   \n",
       "           ADI              -0.001579           -0.005716           -0.000333   \n",
       "           ADM               0.005402            0.000649            0.004258   \n",
       "...                               ...                 ...                 ...   \n",
       "2017-12-29 XEL                    NaN                 NaN                 NaN   \n",
       "           XOM                    NaN                 NaN                 NaN   \n",
       "           YUM                    NaN                 NaN                 NaN   \n",
       "           ZBH                    NaN                 NaN                 NaN   \n",
       "           ZBRA                   NaN                 NaN                 NaN   \n",
       "\n",
       "                   forward_returns_15d  forward_returns_21d  \n",
       "date       ticker                                            \n",
       "2010-01-04 A                 -0.005433             0.001356  \n",
       "           ACGL              -0.005719             0.000569  \n",
       "           ACN               -0.001194            -0.000481  \n",
       "           ADI               -0.014638            -0.004680  \n",
       "           ADM               -0.004703            -0.014227  \n",
       "...                                ...                  ...  \n",
       "2017-12-29 XEL                     NaN                  NaN  \n",
       "           XOM                     NaN                  NaN  \n",
       "           YUM                     NaN                  NaN  \n",
       "           ZBH                     NaN                  NaN  \n",
       "           ZBRA                    NaN                  NaN  \n",
       "\n",
       "[752488 rows x 81 columns]"
      ]
     },
     "execution_count": 70,
     "metadata": {},
     "output_type": "execute_result"
    }
   ],
   "source": [
    "data"
   ]
  },
  {
   "cell_type": "code",
   "execution_count": 71,
   "id": "e0f09d20-d254-4c0f-8ea0-13fe245ee0cb",
   "metadata": {},
   "outputs": [
    {
     "name": "stdout",
     "output_type": "stream",
     "text": [
      "<class 'pandas.core.frame.DataFrame'>\n",
      "MultiIndex: 752488 entries, (Timestamp('2010-01-04 00:00:00'), 'A') to (Timestamp('2017-12-29 00:00:00'), 'ZBRA')\n",
      "Data columns (total 81 columns):\n",
      " #   Column               Non-Null Count   Dtype  \n",
      "---  ------               --------------   -----  \n",
      " 0   open                 752488 non-null  float64\n",
      " 1   high                 752488 non-null  float64\n",
      " 2   low                  752488 non-null  float64\n",
      " 3   close                752488 non-null  float64\n",
      " 4   volume               752488 non-null  float64\n",
      " 5   dollar_volume        752488 non-null  float64\n",
      " 6   dollar_volume_7d     750244 non-null  float64\n",
      " 7   dollar_volume_15d    747252 non-null  float64\n",
      " 8   dollar_volume_21d    745008 non-null  float64\n",
      " 9   dollar_volume_rank   745008 non-null  float64\n",
      " 10  returns_1d           752114 non-null  float64\n",
      " 11  returns_7d           749870 non-null  float64\n",
      " 12  returns_15d          746878 non-null  float64\n",
      " 13  returns_21d          744634 non-null  float64\n",
      " 14  returns_1d_lag1      751740 non-null  float64\n",
      " 15  returns_1d_lag3      750992 non-null  float64\n",
      " 16  returns_1d_lag5      750244 non-null  float64\n",
      " 17  returns_1d_lag7      749496 non-null  float64\n",
      " 18  returns_7d_lag1      749496 non-null  float64\n",
      " 19  returns_7d_lag3      748748 non-null  float64\n",
      " 20  returns_7d_lag5      748000 non-null  float64\n",
      " 21  returns_7d_lag7      747252 non-null  float64\n",
      " 22  returns_15d_lag1     746504 non-null  float64\n",
      " 23  returns_15d_lag3     745756 non-null  float64\n",
      " 24  returns_15d_lag5     745008 non-null  float64\n",
      " 25  returns_15d_lag7     744260 non-null  float64\n",
      " 26  returns_21d_lag1     744260 non-null  float64\n",
      " 27  returns_21d_lag3     743512 non-null  float64\n",
      " 28  returns_21d_lag5     742764 non-null  float64\n",
      " 29  returns_21d_lag7     742016 non-null  float64\n",
      " 30  momentum_7d          749870 non-null  float64\n",
      " 31  momentum_15d         746878 non-null  float64\n",
      " 32  momentum_21d         744634 non-null  float64\n",
      " 33  momentum_7d_lag1     749496 non-null  float64\n",
      " 34  momentum_7d_lag3     748748 non-null  float64\n",
      " 35  momentum_7d_lag5     748000 non-null  float64\n",
      " 36  momentum_7d_lag7     747252 non-null  float64\n",
      " 37  momentum_15d_lag1    746504 non-null  float64\n",
      " 38  momentum_15d_lag3    745756 non-null  float64\n",
      " 39  momentum_15d_lag5    745008 non-null  float64\n",
      " 40  momentum_15d_lag7    744260 non-null  float64\n",
      " 41  momentum_21d_lag1    744260 non-null  float64\n",
      " 42  momentum_21d_lag3    743512 non-null  float64\n",
      " 43  momentum_21d_lag5    742764 non-null  float64\n",
      " 44  momentum_21d_lag7    742016 non-null  float64\n",
      " 45  volatility_7d        749870 non-null  float64\n",
      " 46  volatility_15d       746878 non-null  float64\n",
      " 47  volatility_21d       744634 non-null  float64\n",
      " 48  volatility_7d_lag1   749496 non-null  float64\n",
      " 49  volatility_7d_lag3   748748 non-null  float64\n",
      " 50  volatility_7d_lag5   748000 non-null  float64\n",
      " 51  volatility_7d_lag7   747252 non-null  float64\n",
      " 52  volatility_15d_lag1  746504 non-null  float64\n",
      " 53  volatility_15d_lag3  745756 non-null  float64\n",
      " 54  volatility_15d_lag5  745008 non-null  float64\n",
      " 55  volatility_15d_lag7  744260 non-null  float64\n",
      " 56  volatility_21d_lag1  744260 non-null  float64\n",
      " 57  volatility_21d_lag3  743512 non-null  float64\n",
      " 58  volatility_21d_lag5  742764 non-null  float64\n",
      " 59  volatility_21d_lag7  742016 non-null  float64\n",
      " 60  sma_7d               750244 non-null  float64\n",
      " 61  sma_15d              747252 non-null  float64\n",
      " 62  sma_21d              745008 non-null  float64\n",
      " 63  min_price_7d         750244 non-null  float64\n",
      " 64  min_price_15d        747252 non-null  float64\n",
      " 65  min_price_21d        745008 non-null  float64\n",
      " 66  max_price_7d         750244 non-null  float64\n",
      " 67  max_price_15d        747252 non-null  float64\n",
      " 68  max_price_21d        745008 non-null  float64\n",
      " 69  rsi                  747252 non-null  float64\n",
      " 70  bb_lower             745382 non-null  float64\n",
      " 71  bb_upper             745382 non-null  float64\n",
      " 72  avg_true_range       747252 non-null  float64\n",
      " 73  macd                 743138 non-null  float64\n",
      " 74  macd_hist            740146 non-null  float64\n",
      " 75  macd_signal          740146 non-null  float64\n",
      " 76  forward_returns_1d   752114 non-null  float64\n",
      " 77  forward_returns_5d   750618 non-null  float64\n",
      " 78  forward_returns_7d   749870 non-null  float64\n",
      " 79  forward_returns_15d  746878 non-null  float64\n",
      " 80  forward_returns_21d  744634 non-null  float64\n",
      "dtypes: float64(81)\n",
      "memory usage: 484.8+ MB\n"
     ]
    }
   ],
   "source": [
    "data.info()"
   ]
  },
  {
   "cell_type": "code",
   "execution_count": 72,
   "id": "2f3c875c-1d77-4fa6-8c14-3b3732d6cacc",
   "metadata": {},
   "outputs": [],
   "source": [
    "data.dropna(inplace=True)"
   ]
  },
  {
   "cell_type": "code",
   "execution_count": 73,
   "id": "e6842b87-4f7e-4aa1-ab84-1b046c1510ec",
   "metadata": {},
   "outputs": [
    {
     "data": {
      "text/html": [
       "<div>\n",
       "<style scoped>\n",
       "    .dataframe tbody tr th:only-of-type {\n",
       "        vertical-align: middle;\n",
       "    }\n",
       "\n",
       "    .dataframe tbody tr th {\n",
       "        vertical-align: top;\n",
       "    }\n",
       "\n",
       "    .dataframe thead th {\n",
       "        text-align: right;\n",
       "    }\n",
       "</style>\n",
       "<table border=\"1\" class=\"dataframe\">\n",
       "  <thead>\n",
       "    <tr style=\"text-align: right;\">\n",
       "      <th></th>\n",
       "      <th></th>\n",
       "      <th>open</th>\n",
       "      <th>high</th>\n",
       "      <th>low</th>\n",
       "      <th>close</th>\n",
       "      <th>volume</th>\n",
       "      <th>dollar_volume</th>\n",
       "      <th>dollar_volume_7d</th>\n",
       "      <th>dollar_volume_15d</th>\n",
       "      <th>dollar_volume_21d</th>\n",
       "      <th>dollar_volume_rank</th>\n",
       "      <th>...</th>\n",
       "      <th>bb_upper</th>\n",
       "      <th>avg_true_range</th>\n",
       "      <th>macd</th>\n",
       "      <th>macd_hist</th>\n",
       "      <th>macd_signal</th>\n",
       "      <th>forward_returns_1d</th>\n",
       "      <th>forward_returns_5d</th>\n",
       "      <th>forward_returns_7d</th>\n",
       "      <th>forward_returns_15d</th>\n",
       "      <th>forward_returns_21d</th>\n",
       "    </tr>\n",
       "    <tr>\n",
       "      <th>date</th>\n",
       "      <th>ticker</th>\n",
       "      <th></th>\n",
       "      <th></th>\n",
       "      <th></th>\n",
       "      <th></th>\n",
       "      <th></th>\n",
       "      <th></th>\n",
       "      <th></th>\n",
       "      <th></th>\n",
       "      <th></th>\n",
       "      <th></th>\n",
       "      <th></th>\n",
       "      <th></th>\n",
       "      <th></th>\n",
       "      <th></th>\n",
       "      <th></th>\n",
       "      <th></th>\n",
       "      <th></th>\n",
       "      <th></th>\n",
       "      <th></th>\n",
       "      <th></th>\n",
       "      <th></th>\n",
       "    </tr>\n",
       "  </thead>\n",
       "  <tbody>\n",
       "    <tr>\n",
       "      <th rowspan=\"5\" valign=\"top\">2010-02-22</th>\n",
       "      <th>A</th>\n",
       "      <td>21.347311</td>\n",
       "      <td>21.347311</td>\n",
       "      <td>21.047125</td>\n",
       "      <td>21.251797</td>\n",
       "      <td>2888500.0</td>\n",
       "      <td>6.138582e+07</td>\n",
       "      <td>8.755057e+07</td>\n",
       "      <td>8.758384e+07</td>\n",
       "      <td>7.986180e+07</td>\n",
       "      <td>197.0</td>\n",
       "      <td>...</td>\n",
       "      <td>0.003026</td>\n",
       "      <td>0.473915</td>\n",
       "      <td>0.056859</td>\n",
       "      <td>0.260081</td>\n",
       "      <td>-0.203223</td>\n",
       "      <td>-0.009631</td>\n",
       "      <td>0.020025</td>\n",
       "      <td>0.002472</td>\n",
       "      <td>-0.003291</td>\n",
       "      <td>0.011566</td>\n",
       "    </tr>\n",
       "    <tr>\n",
       "      <th>ACGL</th>\n",
       "      <td>24.070000</td>\n",
       "      <td>24.306667</td>\n",
       "      <td>24.070000</td>\n",
       "      <td>24.230000</td>\n",
       "      <td>2048400.0</td>\n",
       "      <td>4.963273e+07</td>\n",
       "      <td>4.717724e+07</td>\n",
       "      <td>4.194648e+07</td>\n",
       "      <td>3.907178e+07</td>\n",
       "      <td>268.0</td>\n",
       "      <td>...</td>\n",
       "      <td>0.008969</td>\n",
       "      <td>0.346561</td>\n",
       "      <td>0.061855</td>\n",
       "      <td>0.111841</td>\n",
       "      <td>-0.049985</td>\n",
       "      <td>-0.000275</td>\n",
       "      <td>0.013788</td>\n",
       "      <td>-0.005998</td>\n",
       "      <td>-0.002398</td>\n",
       "      <td>0.001330</td>\n",
       "    </tr>\n",
       "    <tr>\n",
       "      <th>ACN</th>\n",
       "      <td>34.573465</td>\n",
       "      <td>34.657811</td>\n",
       "      <td>34.202342</td>\n",
       "      <td>34.328862</td>\n",
       "      <td>2421400.0</td>\n",
       "      <td>8.312391e+07</td>\n",
       "      <td>1.116830e+08</td>\n",
       "      <td>1.292910e+08</td>\n",
       "      <td>1.358379e+08</td>\n",
       "      <td>119.0</td>\n",
       "      <td>...</td>\n",
       "      <td>0.033302</td>\n",
       "      <td>0.674139</td>\n",
       "      <td>-0.479265</td>\n",
       "      <td>0.174337</td>\n",
       "      <td>-0.653602</td>\n",
       "      <td>-0.010811</td>\n",
       "      <td>0.003002</td>\n",
       "      <td>0.000985</td>\n",
       "      <td>0.009022</td>\n",
       "      <td>-0.000707</td>\n",
       "    </tr>\n",
       "    <tr>\n",
       "      <th>ADI</th>\n",
       "      <td>24.188871</td>\n",
       "      <td>24.261559</td>\n",
       "      <td>23.898120</td>\n",
       "      <td>24.140412</td>\n",
       "      <td>4298200.0</td>\n",
       "      <td>1.037603e+08</td>\n",
       "      <td>1.565638e+08</td>\n",
       "      <td>1.256450e+08</td>\n",
       "      <td>1.216604e+08</td>\n",
       "      <td>133.0</td>\n",
       "      <td>...</td>\n",
       "      <td>-0.005210</td>\n",
       "      <td>0.650486</td>\n",
       "      <td>-0.198539</td>\n",
       "      <td>0.494893</td>\n",
       "      <td>-0.693432</td>\n",
       "      <td>-0.024757</td>\n",
       "      <td>0.019836</td>\n",
       "      <td>-0.007765</td>\n",
       "      <td>-0.002070</td>\n",
       "      <td>0.011972</td>\n",
       "    </tr>\n",
       "    <tr>\n",
       "      <th>ADM</th>\n",
       "      <td>24.683991</td>\n",
       "      <td>24.866038</td>\n",
       "      <td>24.535043</td>\n",
       "      <td>24.667441</td>\n",
       "      <td>3619800.0</td>\n",
       "      <td>8.929120e+07</td>\n",
       "      <td>1.197275e+08</td>\n",
       "      <td>1.496057e+08</td>\n",
       "      <td>1.499746e+08</td>\n",
       "      <td>108.0</td>\n",
       "      <td>...</td>\n",
       "      <td>0.035304</td>\n",
       "      <td>0.516744</td>\n",
       "      <td>-0.184526</td>\n",
       "      <td>0.023590</td>\n",
       "      <td>-0.208116</td>\n",
       "      <td>-0.006374</td>\n",
       "      <td>0.010218</td>\n",
       "      <td>-0.002345</td>\n",
       "      <td>-0.001745</td>\n",
       "      <td>-0.000341</td>\n",
       "    </tr>\n",
       "    <tr>\n",
       "      <th>...</th>\n",
       "      <th>...</th>\n",
       "      <td>...</td>\n",
       "      <td>...</td>\n",
       "      <td>...</td>\n",
       "      <td>...</td>\n",
       "      <td>...</td>\n",
       "      <td>...</td>\n",
       "      <td>...</td>\n",
       "      <td>...</td>\n",
       "      <td>...</td>\n",
       "      <td>...</td>\n",
       "      <td>...</td>\n",
       "      <td>...</td>\n",
       "      <td>...</td>\n",
       "      <td>...</td>\n",
       "      <td>...</td>\n",
       "      <td>...</td>\n",
       "      <td>...</td>\n",
       "      <td>...</td>\n",
       "      <td>...</td>\n",
       "      <td>...</td>\n",
       "      <td>...</td>\n",
       "    </tr>\n",
       "    <tr>\n",
       "      <th rowspan=\"5\" valign=\"top\">2017-11-29</th>\n",
       "      <th>XEL</th>\n",
       "      <td>51.180000</td>\n",
       "      <td>51.480000</td>\n",
       "      <td>50.850000</td>\n",
       "      <td>51.260000</td>\n",
       "      <td>2311537.0</td>\n",
       "      <td>1.184894e+08</td>\n",
       "      <td>1.072401e+08</td>\n",
       "      <td>1.381043e+08</td>\n",
       "      <td>1.471875e+08</td>\n",
       "      <td>187.0</td>\n",
       "      <td>...</td>\n",
       "      <td>0.012771</td>\n",
       "      <td>0.538257</td>\n",
       "      <td>0.529041</td>\n",
       "      <td>-0.011455</td>\n",
       "      <td>0.540496</td>\n",
       "      <td>0.006828</td>\n",
       "      <td>0.005709</td>\n",
       "      <td>0.007081</td>\n",
       "      <td>-0.017028</td>\n",
       "      <td>0.000624</td>\n",
       "    </tr>\n",
       "    <tr>\n",
       "      <th>XOM</th>\n",
       "      <td>81.650000</td>\n",
       "      <td>82.310000</td>\n",
       "      <td>81.480000</td>\n",
       "      <td>82.270000</td>\n",
       "      <td>9475070.0</td>\n",
       "      <td>7.795140e+08</td>\n",
       "      <td>6.577386e+08</td>\n",
       "      <td>7.044767e+08</td>\n",
       "      <td>6.980541e+08</td>\n",
       "      <td>19.0</td>\n",
       "      <td>...</td>\n",
       "      <td>0.028160</td>\n",
       "      <td>0.746925</td>\n",
       "      <td>-0.283034</td>\n",
       "      <td>-0.052811</td>\n",
       "      <td>-0.230222</td>\n",
       "      <td>0.012398</td>\n",
       "      <td>-0.007359</td>\n",
       "      <td>0.001333</td>\n",
       "      <td>0.005216</td>\n",
       "      <td>-0.004523</td>\n",
       "    </tr>\n",
       "    <tr>\n",
       "      <th>YUM</th>\n",
       "      <td>81.290000</td>\n",
       "      <td>82.120000</td>\n",
       "      <td>81.200000</td>\n",
       "      <td>81.810000</td>\n",
       "      <td>1658544.0</td>\n",
       "      <td>1.356855e+08</td>\n",
       "      <td>1.058911e+08</td>\n",
       "      <td>1.232016e+08</td>\n",
       "      <td>1.427005e+08</td>\n",
       "      <td>192.0</td>\n",
       "      <td>...</td>\n",
       "      <td>0.009228</td>\n",
       "      <td>1.033082</td>\n",
       "      <td>1.068747</td>\n",
       "      <td>0.145776</td>\n",
       "      <td>0.922972</td>\n",
       "      <td>0.020291</td>\n",
       "      <td>0.001685</td>\n",
       "      <td>0.003251</td>\n",
       "      <td>-0.008810</td>\n",
       "      <td>-0.012822</td>\n",
       "    </tr>\n",
       "    <tr>\n",
       "      <th>ZBH</th>\n",
       "      <td>115.500000</td>\n",
       "      <td>116.740000</td>\n",
       "      <td>115.000000</td>\n",
       "      <td>116.520000</td>\n",
       "      <td>1749712.0</td>\n",
       "      <td>2.038764e+08</td>\n",
       "      <td>1.181175e+08</td>\n",
       "      <td>1.283747e+08</td>\n",
       "      <td>1.856724e+08</td>\n",
       "      <td>151.0</td>\n",
       "      <td>...</td>\n",
       "      <td>0.015251</td>\n",
       "      <td>2.028270</td>\n",
       "      <td>-0.638798</td>\n",
       "      <td>0.623590</td>\n",
       "      <td>-1.262388</td>\n",
       "      <td>0.004978</td>\n",
       "      <td>0.002511</td>\n",
       "      <td>-0.012197</td>\n",
       "      <td>-0.001648</td>\n",
       "      <td>-0.008871</td>\n",
       "    </tr>\n",
       "    <tr>\n",
       "      <th>ZBRA</th>\n",
       "      <td>111.630000</td>\n",
       "      <td>112.390000</td>\n",
       "      <td>108.575000</td>\n",
       "      <td>109.430000</td>\n",
       "      <td>318334.0</td>\n",
       "      <td>3.483529e+07</td>\n",
       "      <td>2.512778e+07</td>\n",
       "      <td>3.858277e+07</td>\n",
       "      <td>3.879641e+07</td>\n",
       "      <td>357.0</td>\n",
       "      <td>...</td>\n",
       "      <td>0.058111</td>\n",
       "      <td>2.555431</td>\n",
       "      <td>-0.258970</td>\n",
       "      <td>0.158463</td>\n",
       "      <td>-0.417433</td>\n",
       "      <td>0.008133</td>\n",
       "      <td>-0.019095</td>\n",
       "      <td>0.002229</td>\n",
       "      <td>0.023574</td>\n",
       "      <td>-0.004603</td>\n",
       "    </tr>\n",
       "  </tbody>\n",
       "</table>\n",
       "<p>732292 rows × 81 columns</p>\n",
       "</div>"
      ],
      "text/plain": [
       "                         open        high         low       close     volume  \\\n",
       "date       ticker                                                              \n",
       "2010-02-22 A        21.347311   21.347311   21.047125   21.251797  2888500.0   \n",
       "           ACGL     24.070000   24.306667   24.070000   24.230000  2048400.0   \n",
       "           ACN      34.573465   34.657811   34.202342   34.328862  2421400.0   \n",
       "           ADI      24.188871   24.261559   23.898120   24.140412  4298200.0   \n",
       "           ADM      24.683991   24.866038   24.535043   24.667441  3619800.0   \n",
       "...                       ...         ...         ...         ...        ...   \n",
       "2017-11-29 XEL      51.180000   51.480000   50.850000   51.260000  2311537.0   \n",
       "           XOM      81.650000   82.310000   81.480000   82.270000  9475070.0   \n",
       "           YUM      81.290000   82.120000   81.200000   81.810000  1658544.0   \n",
       "           ZBH     115.500000  116.740000  115.000000  116.520000  1749712.0   \n",
       "           ZBRA    111.630000  112.390000  108.575000  109.430000   318334.0   \n",
       "\n",
       "                   dollar_volume  dollar_volume_7d  dollar_volume_15d  \\\n",
       "date       ticker                                                       \n",
       "2010-02-22 A        6.138582e+07      8.755057e+07       8.758384e+07   \n",
       "           ACGL     4.963273e+07      4.717724e+07       4.194648e+07   \n",
       "           ACN      8.312391e+07      1.116830e+08       1.292910e+08   \n",
       "           ADI      1.037603e+08      1.565638e+08       1.256450e+08   \n",
       "           ADM      8.929120e+07      1.197275e+08       1.496057e+08   \n",
       "...                          ...               ...                ...   \n",
       "2017-11-29 XEL      1.184894e+08      1.072401e+08       1.381043e+08   \n",
       "           XOM      7.795140e+08      6.577386e+08       7.044767e+08   \n",
       "           YUM      1.356855e+08      1.058911e+08       1.232016e+08   \n",
       "           ZBH      2.038764e+08      1.181175e+08       1.283747e+08   \n",
       "           ZBRA     3.483529e+07      2.512778e+07       3.858277e+07   \n",
       "\n",
       "                   dollar_volume_21d  dollar_volume_rank  ...  bb_upper  \\\n",
       "date       ticker                                         ...             \n",
       "2010-02-22 A            7.986180e+07               197.0  ...  0.003026   \n",
       "           ACGL         3.907178e+07               268.0  ...  0.008969   \n",
       "           ACN          1.358379e+08               119.0  ...  0.033302   \n",
       "           ADI          1.216604e+08               133.0  ... -0.005210   \n",
       "           ADM          1.499746e+08               108.0  ...  0.035304   \n",
       "...                              ...                 ...  ...       ...   \n",
       "2017-11-29 XEL          1.471875e+08               187.0  ...  0.012771   \n",
       "           XOM          6.980541e+08                19.0  ...  0.028160   \n",
       "           YUM          1.427005e+08               192.0  ...  0.009228   \n",
       "           ZBH          1.856724e+08               151.0  ...  0.015251   \n",
       "           ZBRA         3.879641e+07               357.0  ...  0.058111   \n",
       "\n",
       "                   avg_true_range      macd  macd_hist  macd_signal  \\\n",
       "date       ticker                                                     \n",
       "2010-02-22 A             0.473915  0.056859   0.260081    -0.203223   \n",
       "           ACGL          0.346561  0.061855   0.111841    -0.049985   \n",
       "           ACN           0.674139 -0.479265   0.174337    -0.653602   \n",
       "           ADI           0.650486 -0.198539   0.494893    -0.693432   \n",
       "           ADM           0.516744 -0.184526   0.023590    -0.208116   \n",
       "...                           ...       ...        ...          ...   \n",
       "2017-11-29 XEL           0.538257  0.529041  -0.011455     0.540496   \n",
       "           XOM           0.746925 -0.283034  -0.052811    -0.230222   \n",
       "           YUM           1.033082  1.068747   0.145776     0.922972   \n",
       "           ZBH           2.028270 -0.638798   0.623590    -1.262388   \n",
       "           ZBRA          2.555431 -0.258970   0.158463    -0.417433   \n",
       "\n",
       "                   forward_returns_1d  forward_returns_5d  forward_returns_7d  \\\n",
       "date       ticker                                                               \n",
       "2010-02-22 A                -0.009631            0.020025            0.002472   \n",
       "           ACGL             -0.000275            0.013788           -0.005998   \n",
       "           ACN              -0.010811            0.003002            0.000985   \n",
       "           ADI              -0.024757            0.019836           -0.007765   \n",
       "           ADM              -0.006374            0.010218           -0.002345   \n",
       "...                               ...                 ...                 ...   \n",
       "2017-11-29 XEL               0.006828            0.005709            0.007081   \n",
       "           XOM               0.012398           -0.007359            0.001333   \n",
       "           YUM               0.020291            0.001685            0.003251   \n",
       "           ZBH               0.004978            0.002511           -0.012197   \n",
       "           ZBRA              0.008133           -0.019095            0.002229   \n",
       "\n",
       "                   forward_returns_15d  forward_returns_21d  \n",
       "date       ticker                                            \n",
       "2010-02-22 A                 -0.003291             0.011566  \n",
       "           ACGL              -0.002398             0.001330  \n",
       "           ACN                0.009022            -0.000707  \n",
       "           ADI               -0.002070             0.011972  \n",
       "           ADM               -0.001745            -0.000341  \n",
       "...                                ...                  ...  \n",
       "2017-11-29 XEL               -0.017028             0.000624  \n",
       "           XOM                0.005216            -0.004523  \n",
       "           YUM               -0.008810            -0.012822  \n",
       "           ZBH               -0.001648            -0.008871  \n",
       "           ZBRA               0.023574            -0.004603  \n",
       "\n",
       "[732292 rows x 81 columns]"
      ]
     },
     "execution_count": 73,
     "metadata": {},
     "output_type": "execute_result"
    }
   ],
   "source": [
    "data"
   ]
  },
  {
   "cell_type": "markdown",
   "id": "d80c3010-b090-4174-9b3c-6f0484b1e262",
   "metadata": {},
   "source": [
    "# Saving Data"
   ]
  },
  {
   "cell_type": "code",
   "execution_count": 74,
   "id": "911cb1b3-b7be-4d3a-a527-e6acc28c1505",
   "metadata": {},
   "outputs": [],
   "source": [
    "prepared_data_store_path=Path(\"../Prepared_Data_Store\")"
   ]
  },
  {
   "cell_type": "markdown",
   "id": "aedb4748-d8df-4545-8065-a33f4e3ad013",
   "metadata": {},
   "source": [
    "## Align the various datasets"
   ]
  },
  {
   "cell_type": "code",
   "execution_count": 75,
   "id": "0445124b-6233-4ef3-b9d0-a7b4ba5701e2",
   "metadata": {},
   "outputs": [],
   "source": [
    "start_date=pd.to_datetime(data.index.get_level_values(\"date\")[0])\n",
    "end_date=pd.to_datetime(data.index.get_level_values(\"date\"))[-1]"
   ]
  },
  {
   "cell_type": "code",
   "execution_count": 76,
   "id": "4b581f1e-3381-44d9-bc2d-976cf7008a30",
   "metadata": {},
   "outputs": [],
   "source": [
    "factor_data=factor_data[(factor_data.index>=start_date) & (factor_data.index<=end_date)]"
   ]
  },
  {
   "cell_type": "code",
   "execution_count": 77,
   "id": "106c8a71-c53d-4285-90c4-a19aa8de47da",
   "metadata": {},
   "outputs": [],
   "source": [
    "data_sp500=data_sp500[(data_sp500.index>=start_date) & (data_sp500.index<=end_date)]"
   ]
  },
  {
   "cell_type": "markdown",
   "id": "27865c57-3434-42c8-a493-840976014e74",
   "metadata": {},
   "source": [
    "## Saving Stocks Data"
   ]
  },
  {
   "cell_type": "code",
   "execution_count": 78,
   "id": "6c062645-7e1e-45c9-86d0-5b135a3da916",
   "metadata": {},
   "outputs": [],
   "source": [
    "path=os.path.join(prepared_data_store_path,\"stocks_data.csv\")"
   ]
  },
  {
   "cell_type": "code",
   "execution_count": 79,
   "id": "8189e630-be8c-47b5-86ef-c1bc2f03182a",
   "metadata": {},
   "outputs": [],
   "source": [
    "data.to_csv(path,index=True)"
   ]
  },
  {
   "cell_type": "markdown",
   "id": "9b403526-5459-458d-b1d7-82174a5b5c94",
   "metadata": {},
   "source": [
    "## Saving Factor Data"
   ]
  },
  {
   "cell_type": "code",
   "execution_count": 80,
   "id": "a2cef1df-cf49-471b-bf2e-229dc62aef69",
   "metadata": {},
   "outputs": [],
   "source": [
    "factor_data.rename_axis(index={\"Date\":\"date\"},inplace=True)"
   ]
  },
  {
   "cell_type": "code",
   "execution_count": 81,
   "id": "50848712-fe7c-4d62-803e-d5e65838f4a7",
   "metadata": {},
   "outputs": [],
   "source": [
    "path=os.path.join(prepared_data_store_path,\"factor_data.csv\")"
   ]
  },
  {
   "cell_type": "code",
   "execution_count": 82,
   "id": "08aff530-1d6e-4125-880c-9c537e835741",
   "metadata": {},
   "outputs": [],
   "source": [
    "factor_data.to_csv(path,index=True)"
   ]
  },
  {
   "cell_type": "markdown",
   "id": "6feebc3a-2c60-4f74-bda5-6d2af6e4b913",
   "metadata": {},
   "source": [
    "## Saving Sp500 Data"
   ]
  },
  {
   "cell_type": "code",
   "execution_count": 83,
   "id": "bf257174-b392-4d4e-91c3-e51a212f4309",
   "metadata": {},
   "outputs": [],
   "source": [
    "data_sp500.rename_axis(index={\"Date\":\"date\"},inplace=True)"
   ]
  },
  {
   "cell_type": "code",
   "execution_count": 84,
   "id": "72b4b116-d2f2-4086-b642-38ee956b994c",
   "metadata": {},
   "outputs": [],
   "source": [
    "path=os.path.join(prepared_data_store_path,\"sp500_data.csv\")"
   ]
  },
  {
   "cell_type": "code",
   "execution_count": 85,
   "id": "24610910-91f7-4119-8032-790a88469755",
   "metadata": {},
   "outputs": [],
   "source": [
    "data_sp500.to_csv(path,index=True)"
   ]
  },
  {
   "cell_type": "markdown",
   "id": "b2a7e297-7d5b-4f69-91ae-c35098f6b22a",
   "metadata": {},
   "source": [
    "## Saving Stocks to be Traded"
   ]
  },
  {
   "cell_type": "code",
   "execution_count": 86,
   "id": "238a3175-e214-4ae4-a973-e38602eda45c",
   "metadata": {},
   "outputs": [],
   "source": [
    "stocks=list(data.index.get_level_values(\"ticker\"))"
   ]
  },
  {
   "cell_type": "code",
   "execution_count": 87,
   "id": "b7edf86c-e4b0-49c7-adaa-87954081174c",
   "metadata": {},
   "outputs": [],
   "source": [
    "path=os.path.join(prepared_data_store_path,\"stocks_to_traded.json\")"
   ]
  },
  {
   "cell_type": "code",
   "execution_count": 88,
   "id": "8464cf42-054e-44bd-8ca3-1d88196f91e8",
   "metadata": {},
   "outputs": [],
   "source": [
    "with open(path,\"w\") as file:\n",
    "    json.dump(stocks,file)"
   ]
  },
  {
   "cell_type": "code",
   "execution_count": null,
   "id": "07af9b08-a87d-4830-a259-e6be0aeec20e",
   "metadata": {},
   "outputs": [],
   "source": []
  }
 ],
 "metadata": {
  "kernelspec": {
   "display_name": "Python 3.11.9 (Refinitiv)",
   "language": "python",
   "name": "py3119_refinitiv"
  },
  "language_info": {
   "codemirror_mode": {
    "name": "ipython",
    "version": 3
   },
   "file_extension": ".py",
   "mimetype": "text/x-python",
   "name": "python",
   "nbconvert_exporter": "python",
   "pygments_lexer": "ipython3",
   "version": "3.11.9"
  }
 },
 "nbformat": 4,
 "nbformat_minor": 5
}
